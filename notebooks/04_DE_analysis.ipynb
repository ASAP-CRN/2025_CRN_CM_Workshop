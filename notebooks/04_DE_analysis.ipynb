{
 "cells": [
  {
   "cell_type": "markdown",
   "id": "251f4289-3e18-466f-8ce0-f3d3121474d4",
   "metadata": {},
   "source": [
    "# 2025 ASAP CRN Colloborative Meeting - CRN Cloud Training Workshop Notebook #4\n",
    "\n",
    "## Overview\n",
    "This notebook is Part 4: **Differential Expression (DE) Analysis**\n",
    "\n",
    "## Outline \n",
    "\n",
    "4. [Differential Expression (DE) Analysis (__Take Home__)](#part-4-differential-expression-de-analysis-advanced)\n",
    "    * Differential expression analysis,\n",
    "        * psuedobulk over 'sample' and 'cell_type' \n",
    "        * logistic regression CASE vs. CONTROL\n",
    "    * Differential expression analysis meta-analysis\n",
    "        * psuedobulk over 'sample' and 'cell_type' \n",
    "        * logistic regression CASE vs. CONTROL per source dataset\n",
    "        * statistical meta analysis to verify consistency across Datasets / Teams\n",
    "\n",
    "\n",
    "## Notebooks\n",
    "All of this content can be found in shorter more specific notebooks.  E.g. During the workshop you can follow along for Parts 1 & 2, but should start with Part 3 ([03_GOI_analysis.ipynb](./03_GOI_analysis.ipynb))\n",
    "\n",
    "- This notebook [00_full_example_notebook.ipynb](./00_full_example_notebook.ipynb)\n",
    "    - Part 1 - [01_basic_EDA.ipynb](./01_basic_EDA.ipynb)  \n",
    "    - Part 2 - [02_dataset_composition.ipynb](./02_dataset_composition.ipynb)\n",
    "    - Part 3 - [03_GOI_analysis.ipynb](./03_GOI_analysis.ipynb)\n",
    "        - Part 3-R - [03-R_GOI_analysis.ipynb](./03-R_GOI_analysis.ipynb)\n",
    "    - Part 4 - [04_DE_analysis.ipynb](./04_DE_analysis.ipynb)\n",
    "\n",
    "\n",
    "\n",
    "------------------------------\n",
    ">> NOTES\n",
    ">>   need to develop an equivalent R version for part 1,2, and 4\n",
    "    \n",
    "\n",
    "\n",
    "\n",
    "------------------------------\n",
    ">> NOTES\n",
    ">>   need to test that this runs reasonably fast on a generic VM\n",
    ">>   need to develop an equivalent R version"
   ]
  },
  {
   "cell_type": "markdown",
   "id": "971a1c36",
   "metadata": {},
   "source": [
    "## Imports"
   ]
  },
  {
   "cell_type": "code",
   "execution_count": 11,
   "id": "4215af7d-4dcd-4cb8-ab82-2999c642dc27",
   "metadata": {
    "tags": []
   },
   "outputs": [
    {
     "name": "stdout",
     "output_type": "stream",
     "text": [
      "The autotime extension is already loaded. To reload it, use:\n",
      "  %reload_ext autotime\n",
      "time: 3.58 ms (started: 2025-02-27 09:36:06 +00:00)\n"
     ]
    }
   ],
   "source": [
    "import numpy as np\n",
    "import pandas as pd\n",
    "import logging\n",
    "import warnings\n",
    "\n",
    "# Use pathlib for file path manipulation\n",
    "from pathlib import Path \n",
    "\n",
    "\n",
    "# matplotlib and seaborn a pythonic alternative to plotnine\n",
    "try:\n",
    "    import seaborn as sns\n",
    "    import matplotlib.pyplot as plt\n",
    "except ImportError as e:\n",
    "    print(\"Error -> \", e)\n",
    "    print(\"Installing seaborn or matplotlib\")\n",
    "    !pip install matplotlib seaborn\n",
    "    import seaborn as sns\n",
    "    import matplotlib.pyplot as plt\n",
    "\n",
    "\n",
    "try:\n",
    "    import scanpy as sc\n",
    "except ImportError as e:\n",
    "    print(\"Error -> \", e)\n",
    "    print(\"Installing scanpy\")\n",
    "    !pip install scanpy\n",
    "    import scanpy as sc\n",
    "\n",
    "\n",
    "try:\n",
    "    from scipy.stats import norm\n",
    "    import statsmodels.formula.api as smf    \n",
    "    from statsmodels.stats.multitest import multipletests\n",
    "\n",
    "except ImportError as e:\n",
    "    print(\"Error -> \", e)\n",
    "    print(\"Installing scipy and statsmodel\")\n",
    "    !pip install scanpy statsmodel\n",
    "    from scipy.stats import norm\n",
    "    import statsmodels.formula.api as smf    \n",
    "    from statsmodels.stats.multitest import multipletests\n",
    "\n",
    "try:\n",
    "    %load_ext autotime\n",
    "except:\n",
    "    !pip install ipython-autotime\n",
    "    %load_ext autotime\n",
    "\n",
    "# Always show all columns in a Pandas DataFrame\n",
    "pd.set_option('display.max_columns', None)"
   ]
  },
  {
   "cell_type": "markdown",
   "id": "11db0c4a-9383-4ecf-8462-b966b05e24d2",
   "metadata": {},
   "source": [
    "###  ASAP CRN data paths\n",
    "First, let's build the paths to our data. "
   ]
  },
  {
   "cell_type": "code",
   "execution_count": null,
   "id": "290f7e03-6997-4c35-9d14-1169ef794bb3",
   "metadata": {
    "tags": []
   },
   "outputs": [
    {
     "name": "stdout",
     "output_type": "stream",
     "text": [
      "time: 1.26 ms (started: 2025-02-27 09:36:07 +00:00)\n"
     ]
    }
   ],
   "source": [
    "# Workspace Path\n",
    "HOME_PATH = Path.home()\n",
    "WS_PATH =  HOME_PATH / 'workspace'\n",
    "if not WS_PATH.exists():\n",
    "    print(f\"{WS_PATH} doesn't exist. We need to remount our resources\")\n",
    "    !wb resource mount    "
   ]
  },
  {
   "cell_type": "markdown",
   "id": "4504cec7",
   "metadata": {},
   "source": [
    "We'll focus in on the datasets processed with our *PMDBS scRNAseq* workflow.  Specifically the _cohort_ dataset: `asap-cohort-pmdbs-sc-rnaseq`.  This dataset includes samples from 5 Contributing datasets which have been processesed and integrated.  The paths include the following parts.\n",
    "\n",
    "- `workflow` designates the workflow which performs the aggregation and integration.  In this case the [*PMDBS scRNAseq* workflow](https://github.com/ASAP-CRN/pmdbs-sc-rnaseq-wf)\n",
    "- `dataset_team` designates the contributing team for the dataset.  In this case _cohort_ designates that it is made from multiple individual contributed datasets.\n",
    "- `source` designates the _source_ of the samples.  In this case Post-mortem derived Brain samples\n",
    "- `dataset_type` designates the \n",
    "- `bucket_name` designates the datasets gcp bucket\n",
    "- `dataset_name` designates the unique designation for each dataset or collection"
   ]
  },
  {
   "cell_type": "code",
   "execution_count": 13,
   "id": "55896468-d9d0-4f9b-97c5-864b329ecaa3",
   "metadata": {
    "tags": []
   },
   "outputs": [
    {
     "name": "stdout",
     "output_type": "stream",
     "text": [
      "time: 910 μs (started: 2025-02-27 09:36:12 +00:00)\n"
     ]
    }
   ],
   "source": [
    "DATASETS_PATH = WS_PATH / \"01_PMDBS_scRNAseq_Datasets\"\n",
    "workflow = \"pmdbs_sc_rnaseq\"\n",
    "dataset_team = \"cohort\"\n",
    "dataset_source = \"pmdbs\"\n",
    "dataset_type = \"sc-rnaseq\"\n",
    "bucket_name = f\"asap-curated-{dataset_team}-{dataset_source}-{dataset_type}\"\n",
    "dataset_name = f\"asap-{dataset_team}-{dataset_source}-{dataset_type}\"\n",
    "dataset_path = DATASETS_PATH / bucket_name / workflow"
   ]
  },
  {
   "cell_type": "markdown",
   "id": "30cd4cc0",
   "metadata": {},
   "source": [
    "#### Cohort Analysis Path\n",
    "\n",
    "Now that we've defined the path to our cohort dataset, lets list the curated files for the `cohort_analysis`.   "
   ]
  },
  {
   "cell_type": "code",
   "execution_count": 14,
   "id": "6eb617d6-4503-4b74-ab79-a9511a4b2493",
   "metadata": {
    "tags": []
   },
   "outputs": [
    {
     "name": "stdout",
     "output_type": "stream",
     "text": [
      "time: 468 μs (started: 2025-02-27 09:36:12 +00:00)\n"
     ]
    }
   ],
   "source": [
    "cohort_analysis_path = dataset_path / \"cohort_analysis\""
   ]
  },
  {
   "cell_type": "markdown",
   "id": "2f6e94a5-2b06-4f56-a439-3b904ac4b5ea",
   "metadata": {},
   "source": [
    "#### Dataset Metadata Path\n",
    "\n",
    "The dataset metadata can be found in the `release_resources`.  Note that the metadata are organized by the _short_ `dataset_name` rather than `bucket_name`.  \n",
    "\n"
   ]
  },
  {
   "cell_type": "code",
   "execution_count": null,
   "id": "611b4a5a-a7ea-43b6-93c0-e60548238500",
   "metadata": {
    "tags": []
   },
   "outputs": [
    {
     "name": "stdout",
     "output_type": "stream",
     "text": [
      "time: 428 μs (started: 2025-02-27 09:36:26 +00:00)\n"
     ]
    }
   ],
   "source": [
    "ds_metadata_path = WS_PATH / 'release_resources/asap-crn-cloud-release-resources' / dataset_name / \"metadata\"\n",
    "\n",
    "!ls {ds_metadata_path} "
   ]
  },
  {
   "cell_type": "markdown",
   "id": "2779ed2c-d9a1-43e6-b5b6-7df643bb71fb",
   "metadata": {},
   "source": [
    "#### Workshop/Notebook Artifact Path\n",
    "\n",
    "This is the path to where the artifacts we've created in these notebooks can be found in case you want to skip ahead.  Particularly for the workshop."
   ]
  },
  {
   "cell_type": "code",
   "execution_count": null,
   "id": "399de163",
   "metadata": {
    "tags": []
   },
   "outputs": [
    {
     "name": "stdout",
     "output_type": "stream",
     "text": [
      "time: 532 μs (started: 2025-02-27 09:36:16 +00:00)\n"
     ]
    }
   ],
   "source": [
    "WORKSHOP_PATH = WS_PATH / \"release_resources/asap-crn-cloud-release-resources/release-artifacts/2025_CRN_CM_Workshop_Resources_03122025\" \n",
    "\n",
    "!ls {WORKSHOP_PATH}\n"
   ]
  },
  {
   "cell_type": "markdown",
   "id": "4ca8d87b",
   "metadata": {},
   "source": [
    "#### Local Data Path\n",
    "Lets also define a path for copying our data files and exporting intermediate analysis artifacts to your workspace.  In this example we'll make a \"workshop_files\" in the \"ws_files\" which are persistent in our Verily Workbench Workspace. "
   ]
  },
  {
   "cell_type": "code",
   "execution_count": null,
   "id": "feccfb70",
   "metadata": {},
   "outputs": [
    {
     "name": "stdout",
     "output_type": "stream",
     "text": [
      "time: 373 ms (started: 2025-02-27 09:36:15 +00:00)\n"
     ]
    }
   ],
   "source": [
    "local_data_path = WS_PATH / \"workshop_files\"\n",
    "\n",
    "if not local_data_path.exists():\n",
    "    local_data_path.mkdir(parents=True)"
   ]
  },
  {
   "cell_type": "markdown",
   "id": "26649d41",
   "metadata": {},
   "source": [
    "----------------------\n",
    "# Part 4: Differential Expression (DE) Analysis (__Advanced__)\n",
    "* Differential expression analysis\n",
    "* Differential expression analysis meta-analysis\n",
    "\n",
    "Here we'll run through a simple differential analysis of gene expression aimed at finding which genes are over/under-expressed in Frontal Cortex derived PMDBS for Parkinson's patient brains versus Controls. \n",
    "\n",
    "We'll do psuedo-bulking by simply summing all cells derived from the same _sample_ having the same \"cell_type\".   \n",
    "\n",
    "Caveat:  Cell-typing.   Our gene-expression phenotype (\"cell_type\") have been inferred for a simple taxonomy leveraging by a very naive set of marker genes with `CellAssign`.   A more powerful procedure for infering ground-truth gene-expression phenotype, would enhance the utility of this analysis.\n"
   ]
  },
  {
   "cell_type": "markdown",
   "id": "fc7aba54",
   "metadata": {},
   "source": [
    "### Load full frontal cortex `AnnData` object for further analysis \n",
    "\n",
    "If you calculated these yourself in [Part 2 - 02_dataset_composition.ipynb](./02_dataset_composition.ipynb) load if from where you saved it.(e.g. 'local_data_path'). If you didn't do that, and you didn't already copy it to your 'local_data_path', it is also made it available in the `WORKSHOP_PATH`."
   ]
  },
  {
   "cell_type": "code",
   "execution_count": null,
   "id": "14114e48",
   "metadata": {},
   "outputs": [
    {
     "name": "stdout",
     "output_type": "stream",
     "text": [
      "time: 12 s (started: 2025-02-27 09:37:16 +00:00)\n"
     ]
    }
   ],
   "source": [
    "full_frontal_samples_filename = local_data_path / f\"asap-{dataset_team}.full_frontal_ctx_case_control_samples.h5ad\"\n",
    "\n",
    "frontal_full_ad = sc.read_h5ad(full_frontal_samples_filename)"
   ]
  },
  {
   "cell_type": "code",
   "execution_count": 20,
   "id": "04d2e99d",
   "metadata": {},
   "outputs": [
    {
     "data": {
      "text/plain": [
       "AnnData object with n_obs × n_vars = 291787 × 36601\n",
       "    obs: 'background_fraction', 'cell_probability', 'cell_size', 'droplet_efficiency', 'n_genes_by_counts', 'total_counts', 'total_counts_rb', 'pct_counts_rb', 'total_counts_mt', 'pct_counts_mt', 'doublet_score', 'sample', 'batch', 'team', 'dataset', 'batch_id', 'S_score', 'G2M_score', 'phase', '_scvi_batch', '_scvi_labels', 'leiden_res_0.05', 'leiden_res_0.10', 'leiden_res_0.20', 'leiden_res_0.40', 'cell_type', 'case_control', 'condition_id', 'case_id', 'brain_region'\n",
       "    var: 'feature_type', 'genome', 'gene_id', 'mt', 'rb'\n",
       "    uns: '_scvi_manager_uuid', '_scvi_uuid', 'cell_type_colors', 'estimator', 'fraction_data_used_for_testing', 'learning_curve_learning_rate_epoch', 'learning_curve_test_epoch', 'learning_curve_train_epoch', 'leiden', 'log1p', 'neighbors', 'pca', 'phase_colors', 'scrublet', 'target_false_positive_rate', 'umap'\n",
       "    obsm: 'X_pca', 'X_pca_harmony', 'X_scvi', 'X_umap', '_scvi_extra_continuous_covs', 'gene_expression_encoding'"
      ]
     },
     "execution_count": 20,
     "metadata": {},
     "output_type": "execute_result"
    },
    {
     "name": "stdout",
     "output_type": "stream",
     "text": [
      "time: 22.4 ms (started: 2025-02-27 09:37:43 +00:00)\n"
     ]
    }
   ],
   "source": [
    "adata = frontal_full_ad\n",
    "adata"
   ]
  },
  {
   "cell_type": "markdown",
   "id": "3b2a6fd8",
   "metadata": {},
   "source": [
    "full_frontal_samples_filename = (\n",
    "    local_data_path / f\"asap-{dataset_team}.full_frontal_ctx_case_control_samples.h5ad\"\n",
    ")\n",
    "adata = sc.read_h5ad(full_frontal_samples_filename)\n"
   ]
  },
  {
   "cell_type": "markdown",
   "id": "cb8a27e5",
   "metadata": {},
   "source": [
    "## Construct Simple Psuedobulk\n",
    "\n",
    "We'll create a _simple_ psuedobulk dataset by summing counts over cells from individual samples for each cell_type. \n",
    "\n",
    "> Note: it might be more elegant to use the `decoupler` framework to construct psuedobulk gene-expression, but the goal here was simply to demonstrate the logic. "
   ]
  },
  {
   "cell_type": "code",
   "execution_count": null,
   "id": "053b6b6e",
   "metadata": {},
   "outputs": [
    {
     "data": {
      "text/plain": [
       "AnnData object with n_obs × n_vars = 399 × 36601\n",
       "    obs: 'dataset', 'cell_type', 'case_control'\n",
       "    var: 'gene_name'"
      ]
     },
     "execution_count": 44,
     "metadata": {},
     "output_type": "execute_result"
    },
    {
     "name": "stdout",
     "output_type": "stream",
     "text": [
      "time: 35.1 s (started: 2025-02-25 23:05:33 +00:00)\n"
     ]
    }
   ],
   "source": [
    "# create pseudo-bulk expression matrix\n",
    "gene_ids = adata.var[\"gene_id\"]\n",
    "pbs = []\n",
    "for cell_type in adata.obs[\"cell_type\"].unique():\n",
    "    cell_type_adata = adata[adata.obs[\"cell_type\"] == cell_type]\n",
    "\n",
    "    for sample in cell_type_adata.obs[\"sample\"].unique():\n",
    "        samp_cell_subset = cell_type_adata[cell_type_adata.obs[\"sample\"] == sample]\n",
    "        X = samp_cell_subset.X.toarray()\n",
    "        rep_adata = sc.AnnData(\n",
    "            X=X.sum(axis=0).reshape(1, -1),\n",
    "            var=samp_cell_subset.var[[]],\n",
    "        )\n",
    "        rep_adata.obs_names = [cell_type + \"_\" + sample]\n",
    "        rep_adata.obs[\"dataset\"] = samp_cell_subset.obs[\"dataset\"].iloc[0]\n",
    "        rep_adata.obs[\"cell_type\"] = samp_cell_subset.obs[\"cell_type\"].iloc[0]\n",
    "        rep_adata.obs[\"case_control\"] = samp_cell_subset.obs[\"case_control\"].iloc[0]\n",
    "\n",
    "        pbs.append(rep_adata)\n",
    "\n",
    "\n",
    "pb = sc.concat(pbs)\n",
    "\n",
    "pb.var[\"gene_name\"] = pb.var.index\n",
    "pb.var_names = gene_ids\n",
    "pb"
   ]
  },
  {
   "cell_type": "code",
   "execution_count": null,
   "id": "695c2df0",
   "metadata": {},
   "outputs": [
    {
     "name": "stdout",
     "output_type": "stream",
     "text": [
      "time: 2.2 s (started: 2025-02-25 23:06:08 +00:00)\n"
     ]
    }
   ],
   "source": [
    "psuedobulk_cortical_samples_filename = local_data_path / f\"asap-{dataset_team}.full_frontal_ctx_psuedobulk.h5ad\"\n",
    "pb.write_h5ad(psuedobulk_cortical_samples_filename)"
   ]
  },
  {
   "cell_type": "markdown",
   "id": "cee2b31d",
   "metadata": {},
   "source": [
    "## Differential Expression\n",
    "\n",
    "We will perform a super simple differential expression calculation by logistic regression for the log zscored samples for each gene on Case vs. Control.  \n",
    "\n",
    "If you want to start from here simply load the psuedobulk anndata created above."
   ]
  },
  {
   "cell_type": "code",
   "execution_count": null,
   "id": "66a77568",
   "metadata": {},
   "outputs": [],
   "source": [
    "reload = False\n",
    "\n",
    "if reload:\n",
    "    psuedobulk_cortical_samples_filename = (\n",
    "        local_data_path / f\"asap-{dataset_team}.full_frontal_ctx_psuedobulk.h5ad\"\n",
    "    )\n",
    "\n",
    "\n",
    "    pb = sc.read_h5ad(psuedobulk_cortical_samples_filename)"
   ]
  },
  {
   "cell_type": "markdown",
   "id": "693f2674",
   "metadata": {},
   "source": [
    "### calculate differential expression\n",
    "\n",
    "We'll take the log of the psuedobulks and zscore with `scanpy` to normalize the expression for each gene psuedobulk.  In this initial analysis we'll zscore and regress all the cells per `cell_type`.\n",
    "This takes about 20 minutes."
   ]
  },
  {
   "cell_type": "code",
   "execution_count": 48,
   "id": "0ac9284f",
   "metadata": {},
   "outputs": [
    {
     "name": "stdout",
     "output_type": "stream",
     "text": [
      "time: 52min 3s (started: 2025-02-25 23:18:26 +00:00)\n"
     ]
    }
   ],
   "source": [
    "#use logger and ignore warnings so this doesn't swamp the notebook with output\n",
    "\n",
    "logger = logging.getLogger()\n",
    "fhandler = logging.FileHandler(filename=\"nb_log.log\", mode=\"w\")\n",
    "logger.addHandler(fhandler)\n",
    "logging.warning(\"This is a warning message\")\n",
    "\n",
    "\n",
    "warnings.filterwarnings(\"ignore\")\n",
    "\n",
    "# Initialize a DataFrame to store results for this subdirectory\n",
    "# Step 3: Loop over cell types and perform logistic regression\n",
    "regression_count = 0\n",
    "results = pd.DataFrame(columns=[\"CELL_TYPE\", \"ENSG\", \"BETA\", \"SE\", \"P\", \"N\"])\n",
    "\n",
    "for cell_type in pb.obs[\"cell_type\"].unique():\n",
    "    cell_type_pb = pb[pb.obs[\"cell_type\"] == cell_type].copy()\n",
    "    logging.info(f\" {cell_type=}, {cell_type_pb.shape=}\")\n",
    "\n",
    "    # Step 4: Apply log-transform and z-scaling for each cell_type\n",
    "    sc.pp.log1p(cell_type_pb)\n",
    "    sc.pp.scale(cell_type_pb)\n",
    "\n",
    "    # X = cell_type_pb.X.toarray()\n",
    "    # log_transformed = np.log1p(X)\n",
    "    # z_scaled = (log_transformed - log_transformed.mean()) / log_transformed.std(ddof=0)\n",
    "\n",
    "    # Step 5: Perform logistic regression for each gene\n",
    "    # Iterate over ENSG prefixed columns\n",
    "    for ensg in cell_type_pb.var_names:\n",
    "        regression_count += 1\n",
    "        try:\n",
    "            data = cell_type_pb.obs[[\"case_control\"]]\n",
    "            data = (cell_type_pb.obs[[\"case_control\"]] != \"Control\").astype(int)\n",
    "            data[ensg] = cell_type_pb[:, ensg].X.toarray()\n",
    "            # Perform logistic regression\n",
    "            formula = f\"case_control ~ {ensg}\"\n",
    "            model = smf.logit(formula, data=data).fit(disp=False)\n",
    "\n",
    "            # Extract results\n",
    "            beta = model.params[ensg]\n",
    "            se = model.bse[ensg]\n",
    "            p_value = model.pvalues[ensg]\n",
    "            n = model.nobs\n",
    "\n",
    "            # Create a new row of results\n",
    "            new_row = pd.DataFrame(\n",
    "                [\n",
    "                    {\n",
    "                        \"CELL_TYPE\": cell_type,\n",
    "                        \"ENSG\": ensg,\n",
    "                        \"BETA\": beta,\n",
    "                        \"SE\": se,\n",
    "                        \"P\": p_value,\n",
    "                        \"N\": n,\n",
    "                    }\n",
    "                ]\n",
    "            )\n",
    "            # Append to results table\n",
    "            results = pd.concat([results, new_row], ignore_index=True)\n",
    "\n",
    "            # Print only every 1000th model\n",
    "            if regression_count % 1000 == 0:\n",
    "                msg = f\"\\nRegression {regression_count} in {cell_type}:\"\n",
    "                msg += f\"\\nFormula: {formula}\"\n",
    "                msg += f\"\\n{model.summary()}\"\n",
    "                logging.info(msg)\n",
    "\n",
    "        except Exception as e:\n",
    "            # print(f\"Error analyzing  {cell_type}, {ensg}: {e}\")\n",
    "            logging.error(f\"Error analyzing  {cell_type}, {ensg}: {e}\")\n",
    "\n",
    "\n",
    "simple_de_filenm = (\n",
    "    local_data_path / f\"asap-{dataset_team}.full_frontal_ctx_psuedobulk_de.csv\"\n",
    ")\n",
    "\n",
    "results.to_csv(simple_de_filenm, index=False)"
   ]
  },
  {
   "cell_type": "markdown",
   "id": "40545b5e",
   "metadata": {},
   "source": [
    "### Visualize DE Results\n",
    "\n",
    "Below is a function to make a simple volcano plot."
   ]
  },
  {
   "cell_type": "code",
   "execution_count": 49,
   "id": "c0e54cee",
   "metadata": {},
   "outputs": [
    {
     "data": {
      "image/png": "[encoded data removed]",
      "text/plain": [
       "<Figure size 1000x600 with 1 Axes>"
      ]
     },
     "metadata": {},
     "output_type": "display_data"
    },
    {
     "data": {
      "text/html": [
       "<div>\n",
       "<style scoped>\n",
       "    .dataframe tbody tr th:only-of-type {\n",
       "        vertical-align: middle;\n",
       "    }\n",
       "\n",
       "    .dataframe tbody tr th {\n",
       "        vertical-align: top;\n",
       "    }\n",
       "\n",
       "    .dataframe thead th {\n",
       "        text-align: right;\n",
       "    }\n",
       "</style>\n",
       "<table border=\"1\" class=\"dataframe\">\n",
       "  <thead>\n",
       "    <tr style=\"text-align: right;\">\n",
       "      <th></th>\n",
       "      <th>CELL_TYPE</th>\n",
       "      <th>ENSG</th>\n",
       "      <th>BETA</th>\n",
       "      <th>SE</th>\n",
       "      <th>P</th>\n",
       "      <th>N</th>\n",
       "      <th>minus_log10_p</th>\n",
       "      <th>gene_name</th>\n",
       "    </tr>\n",
       "  </thead>\n",
       "  <tbody>\n",
       "    <tr>\n",
       "      <th>35406</th>\n",
       "      <td>Astro</td>\n",
       "      <td>ENSG00000284693</td>\n",
       "      <td>-1.170897</td>\n",
       "      <td>0.369378</td>\n",
       "      <td>0.001525</td>\n",
       "      <td>59</td>\n",
       "      <td>2.816779</td>\n",
       "      <td>LINC02606</td>\n",
       "    </tr>\n",
       "    <tr>\n",
       "      <th>23049</th>\n",
       "      <td>ExN</td>\n",
       "      <td>ENSG00000165794</td>\n",
       "      <td>-0.844171</td>\n",
       "      <td>0.303143</td>\n",
       "      <td>0.005357</td>\n",
       "      <td>59</td>\n",
       "      <td>2.271058</td>\n",
       "      <td>SLC39A2</td>\n",
       "    </tr>\n",
       "    <tr>\n",
       "      <th>140534</th>\n",
       "      <td>InN</td>\n",
       "      <td>ENSG00000152784</td>\n",
       "      <td>1.074436</td>\n",
       "      <td>0.385836</td>\n",
       "      <td>0.005358</td>\n",
       "      <td>47</td>\n",
       "      <td>2.271013</td>\n",
       "      <td>PRDM8</td>\n",
       "    </tr>\n",
       "    <tr>\n",
       "      <th>186889</th>\n",
       "      <td>MG</td>\n",
       "      <td>ENSG00000254521</td>\n",
       "      <td>-1.114150</td>\n",
       "      <td>0.402272</td>\n",
       "      <td>0.005612</td>\n",
       "      <td>59</td>\n",
       "      <td>2.250895</td>\n",
       "      <td>SIGLEC12</td>\n",
       "    </tr>\n",
       "    <tr>\n",
       "      <th>73994</th>\n",
       "      <td>OPC</td>\n",
       "      <td>ENSG00000286952</td>\n",
       "      <td>-0.986917</td>\n",
       "      <td>0.316656</td>\n",
       "      <td>0.001829</td>\n",
       "      <td>59</td>\n",
       "      <td>2.737799</td>\n",
       "      <td>AC093928.1</td>\n",
       "    </tr>\n",
       "    <tr>\n",
       "      <th>110959</th>\n",
       "      <td>Oligo</td>\n",
       "      <td>ENSG00000286736</td>\n",
       "      <td>-1.225868</td>\n",
       "      <td>0.359963</td>\n",
       "      <td>0.000660</td>\n",
       "      <td>59</td>\n",
       "      <td>3.180237</td>\n",
       "      <td>AC005753.2</td>\n",
       "    </tr>\n",
       "    <tr>\n",
       "      <th>194547</th>\n",
       "      <td>VC</td>\n",
       "      <td>ENSG00000179796</td>\n",
       "      <td>1.388837</td>\n",
       "      <td>0.457715</td>\n",
       "      <td>0.002411</td>\n",
       "      <td>57</td>\n",
       "      <td>2.617786</td>\n",
       "      <td>LRRC3B</td>\n",
       "    </tr>\n",
       "  </tbody>\n",
       "</table>\n",
       "</div>"
      ],
      "text/plain": [
       "       CELL_TYPE             ENSG      BETA        SE         P   N  \\\n",
       "35406      Astro  ENSG00000284693 -1.170897  0.369378  0.001525  59   \n",
       "23049        ExN  ENSG00000165794 -0.844171  0.303143  0.005357  59   \n",
       "140534       InN  ENSG00000152784  1.074436  0.385836  0.005358  47   \n",
       "186889        MG  ENSG00000254521 -1.114150  0.402272  0.005612  59   \n",
       "73994        OPC  ENSG00000286952 -0.986917  0.316656  0.001829  59   \n",
       "110959     Oligo  ENSG00000286736 -1.225868  0.359963  0.000660  59   \n",
       "194547        VC  ENSG00000179796  1.388837  0.457715  0.002411  57   \n",
       "\n",
       "        minus_log10_p   gene_name  \n",
       "35406        2.816779   LINC02606  \n",
       "23049        2.271058     SLC39A2  \n",
       "140534       2.271013       PRDM8  \n",
       "186889       2.250895    SIGLEC12  \n",
       "73994        2.737799  AC093928.1  \n",
       "110959       3.180237  AC005753.2  \n",
       "194547       2.617786      LRRC3B  "
      ]
     },
     "execution_count": 49,
     "metadata": {},
     "output_type": "execute_result"
    },
    {
     "name": "stdout",
     "output_type": "stream",
     "text": [
      "time: 5.56 s (started: 2025-02-26 00:10:30 +00:00)\n"
     ]
    }
   ],
   "source": [
    "def simple_volcano(results: pd.DataFrame, ensg_to_gene: pd.DataFrame):\n",
    "    # Create a new column for -log10(p)\n",
    "    results[\"minus_log10_p\"] = -np.log10(results[\"P\"])\n",
    "    df = results.copy()\n",
    "    # Ignore rows where BETA > |3|\n",
    "    df = df[df[\"BETA\"].abs() <= 3]\n",
    "\n",
    "    df = df.merge(ensg_to_gene, left_on=\"ENSG\", right_index=True, how=\"left\")\n",
    "\n",
    "    # For each cell type, find the gene with the highest -log10 p-value\n",
    "    top_hits = df.loc[df.groupby(\"CELL_TYPE\")[\"minus_log10_p\"].idxmax()]\n",
    "\n",
    "    plt.figure(figsize=(10, 6))\n",
    "    # Use seaborn to plot with CELL_TYPE as hue and N to adjust marker sizes\n",
    "    sns.scatterplot(data=df, x=\"BETA\", y=\"minus_log10_p\", hue=\"CELL_TYPE\", alpha=0.7)\n",
    "\n",
    "    # Annotate the top 10 genes on the plot\n",
    "    for _, row in top_hits.iterrows():\n",
    "        # You can adjust the text offset (e.g., using ha, va, or adding a small offset to x/y)\n",
    "        plt.text(\n",
    "            row[\"BETA\"],\n",
    "            row[\"minus_log10_p\"],\n",
    "            row[\"gene_name\"],\n",
    "            fontsize=9,\n",
    "            ha=\"right\",\n",
    "            va=\"bottom\",\n",
    "        )\n",
    "\n",
    "    # Add a horizontal line for p=0.05 (optional threshold)\n",
    "    plt.axhline(-np.log10(0.05), color=\"red\", linestyle=\"--\", linewidth=1)\n",
    "\n",
    "    plt.xlabel(\"Beta Coefficient\")\n",
    "    plt.ylabel(\"-log10(P-value)\")\n",
    "    plt.title(\"Volcano Plot of Differential Expression\")\n",
    "    plt.show()\n",
    "    return top_hits\n",
    "\n",
    "\n",
    "top_hits_by_cell_type = simple_volcano(results, pb.var.copy())\n",
    "top_hits_by_cell_type"
   ]
  },
  {
   "cell_type": "markdown",
   "id": "434e3627",
   "metadata": {},
   "source": [
    "## DE meta analysis \n",
    "\n",
    "This meta analysis tests the robustness of the DE across individual contributions in our 'asap-cohort' dataset.\n",
    "\n",
    "\n",
    "### calculate differential expression\n",
    "\n",
    "In the previous section we calculated the Case/Control DE for each cell_type with logistic regression on the log zscores of our psuedobulks.   Now we need to recalculate the DE for each cell_type for each dataset. "
   ]
  },
  {
   "cell_type": "code",
   "execution_count": 50,
   "id": "6529b113",
   "metadata": {},
   "outputs": [
    {
     "name": "stdout",
     "output_type": "stream",
     "text": [
      "ExN (22, 36601)\n",
      "Astro (22, 36601)\n",
      "OPC (22, 36601)\n",
      "Oligo (22, 36601)\n",
      "InN (12, 36601)\n",
      "MG (22, 36601)\n",
      "VC (20, 36601)\n",
      "ExN (12, 36601)\n",
      "Astro (12, 36601)\n",
      "OPC (12, 36601)\n",
      "Oligo (12, 36601)\n",
      "InN (12, 36601)\n",
      "MG (12, 36601)\n",
      "VC (12, 36601)\n",
      "ExN (25, 36601)\n",
      "Astro (25, 36601)\n",
      "OPC (25, 36601)\n",
      "Oligo (25, 36601)\n",
      "InN (23, 36601)\n",
      "MG (25, 36601)\n",
      "VC (25, 36601)\n",
      "time: 2h 39min 27s (started: 2025-02-26 00:10:35 +00:00)\n"
     ]
    }
   ],
   "source": [
    "results_by_dataset = {}\n",
    "\n",
    "for dataset in pb.obs[\"dataset\"].unique():\n",
    "    dataset_adata = pb[pb.obs[\"dataset\"] == dataset]\n",
    "    results = pd.DataFrame(\n",
    "        columns=[\"DATASET\", \"CELL_TYPE\", \"ENSG\", \"BETA\", \"SE\", \"P\", \"N\"]\n",
    "    )\n",
    "\n",
    "    regression_count = 0\n",
    "    for cell_type in dataset_adata.obs[\"cell_type\"].unique():\n",
    "        cell_type_pb = dataset_adata[dataset_adata.obs[\"cell_type\"] == cell_type].copy()\n",
    "        print(cell_type, cell_type_pb.shape)\n",
    "\n",
    "        # Step 4: Apply log-transform and z-scaling for each cell_type\n",
    "        sc.pp.log1p(cell_type_pb)\n",
    "        sc.pp.scale(cell_type_pb)\n",
    "\n",
    "        # X = cell_type_pb.X.toarray()\n",
    "        # log_transformed = np.log1p(X)\n",
    "        # z_scaled = (log_transformed - log_transformed.mean()) / log_transformed.std(ddof=0)\n",
    "\n",
    "        # Step 5: Perform logistic regression for each gene\n",
    "        # Iterate over ENSG prefixed columns\n",
    "        for ensg in cell_type_pb.var_names:\n",
    "            regression_count += 1\n",
    "            try:\n",
    "\n",
    "                data = cell_type_pb.obs[[\"case_control\"]]\n",
    "                data = (cell_type_pb.obs[[\"case_control\"]] != \"Control\").astype(int)\n",
    "                data[ensg] = cell_type_pb[:, ensg].X.toarray()\n",
    "                # Perform logistic regression\n",
    "                formula = f\"case_control ~ {ensg}\"\n",
    "                model = smf.logit(formula, data=data).fit(disp=False)\n",
    "\n",
    "                # Extract results\n",
    "                beta = model.params[ensg]\n",
    "                se = model.bse[ensg]\n",
    "                p_value = model.pvalues[ensg]\n",
    "                n = model.nobs\n",
    "\n",
    "                # Create a new row of results\n",
    "                new_row = pd.DataFrame(\n",
    "                    [\n",
    "                        {\n",
    "                            \"DATASET\": dataset,\n",
    "                            \"CELL_TYPE\": cell_type,\n",
    "                            \"ENSG\": ensg,\n",
    "                            \"BETA\": beta,\n",
    "                            \"SE\": se,\n",
    "                            \"P\": p_value,\n",
    "                            \"N\": n,\n",
    "                        }\n",
    "                    ]\n",
    "                )\n",
    "                # Append to results table\n",
    "                results = pd.concat([results, new_row], ignore_index=True)\n",
    "\n",
    "                # Print only every 1000th model\n",
    "                if regression_count % 1000 == 0:\n",
    "                    msg = f\"\\nRegression {regression_count} in {cell_type}:\"\n",
    "                    msg += f\"\\nFormula: {formula}\"\n",
    "                    msg += f\"\\n{model.summary()}\"\n",
    "                    logging.info(msg)\n",
    "\n",
    "            except Exception as e:\n",
    "                # print(f\"Error analyzing  {cell_type}, {ensg}: {e}\")\n",
    "                logging.error(f\"Error analyzing  {cell_type}, {ensg}: {e}\")\n",
    "\n",
    "    results_by_dataset[dataset] = results\n",
    "\n",
    "    # Step 4: Export results for this subdirectory with a timestamp\n",
    "    dataset_de_filenm = (\n",
    "        local_data_path\n",
    "        / f\"asap-{dataset_team}.full_frontal_ctx_psuedobulk_de.meta_analysis_{dataset}.csv\"\n",
    "    )\n",
    "\n",
    "    results.to_csv(dataset_de_filenm, index=False)"
   ]
  },
  {
   "cell_type": "code",
   "execution_count": 51,
   "id": "7688a43f",
   "metadata": {},
   "outputs": [
    {
     "name": "stdout",
     "output_type": "stream",
     "text": [
      "time: 48.9 ms (started: 2025-02-26 02:50:03 +00:00)\n"
     ]
    }
   ],
   "source": [
    "all_data_df = pd.concat(results_by_dataset, ignore_index=True)"
   ]
  },
  {
   "cell_type": "code",
   "execution_count": 63,
   "id": "c338d768",
   "metadata": {},
   "outputs": [
    {
     "data": {
      "text/html": [
       "<div>\n",
       "<style scoped>\n",
       "    .dataframe tbody tr th:only-of-type {\n",
       "        vertical-align: middle;\n",
       "    }\n",
       "\n",
       "    .dataframe tbody tr th {\n",
       "        vertical-align: top;\n",
       "    }\n",
       "\n",
       "    .dataframe thead th {\n",
       "        text-align: right;\n",
       "    }\n",
       "</style>\n",
       "<table border=\"1\" class=\"dataframe\">\n",
       "  <thead>\n",
       "    <tr style=\"text-align: right;\">\n",
       "      <th></th>\n",
       "      <th>DATASET</th>\n",
       "      <th>CELL_TYPE</th>\n",
       "      <th>ENSG</th>\n",
       "      <th>BETA</th>\n",
       "      <th>SE</th>\n",
       "      <th>P</th>\n",
       "      <th>N</th>\n",
       "      <th>FILE</th>\n",
       "    </tr>\n",
       "  </thead>\n",
       "  <tbody>\n",
       "    <tr>\n",
       "      <th>0</th>\n",
       "      <td>DS_PMDBS_0004</td>\n",
       "      <td>ExN</td>\n",
       "      <td>ENSG00000243485</td>\n",
       "      <td>-0.182149</td>\n",
       "      <td>0.438393</td>\n",
       "      <td>0.677781</td>\n",
       "      <td>22</td>\n",
       "      <td>asap-cohort.full_frontal_ctx_psuedobulk_de.met...</td>\n",
       "    </tr>\n",
       "    <tr>\n",
       "      <th>1</th>\n",
       "      <td>DS_PMDBS_0004</td>\n",
       "      <td>ExN</td>\n",
       "      <td>ENSG00000238009</td>\n",
       "      <td>-0.042635</td>\n",
       "      <td>0.457299</td>\n",
       "      <td>0.925719</td>\n",
       "      <td>22</td>\n",
       "      <td>asap-cohort.full_frontal_ctx_psuedobulk_de.met...</td>\n",
       "    </tr>\n",
       "    <tr>\n",
       "      <th>2</th>\n",
       "      <td>DS_PMDBS_0004</td>\n",
       "      <td>ExN</td>\n",
       "      <td>ENSG00000239945</td>\n",
       "      <td>-0.291216</td>\n",
       "      <td>0.457279</td>\n",
       "      <td>0.524226</td>\n",
       "      <td>22</td>\n",
       "      <td>asap-cohort.full_frontal_ctx_psuedobulk_de.met...</td>\n",
       "    </tr>\n",
       "    <tr>\n",
       "      <th>4</th>\n",
       "      <td>DS_PMDBS_0004</td>\n",
       "      <td>ExN</td>\n",
       "      <td>ENSG00000241860</td>\n",
       "      <td>-0.219766</td>\n",
       "      <td>0.486330</td>\n",
       "      <td>0.651350</td>\n",
       "      <td>22</td>\n",
       "      <td>asap-cohort.full_frontal_ctx_psuedobulk_de.met...</td>\n",
       "    </tr>\n",
       "    <tr>\n",
       "      <th>6</th>\n",
       "      <td>DS_PMDBS_0004</td>\n",
       "      <td>ExN</td>\n",
       "      <td>ENSG00000286448</td>\n",
       "      <td>-0.086074</td>\n",
       "      <td>0.448005</td>\n",
       "      <td>0.847642</td>\n",
       "      <td>22</td>\n",
       "      <td>asap-cohort.full_frontal_ctx_psuedobulk_de.met...</td>\n",
       "    </tr>\n",
       "    <tr>\n",
       "      <th>...</th>\n",
       "      <td>...</td>\n",
       "      <td>...</td>\n",
       "      <td>...</td>\n",
       "      <td>...</td>\n",
       "      <td>...</td>\n",
       "      <td>...</td>\n",
       "      <td>...</td>\n",
       "      <td>...</td>\n",
       "    </tr>\n",
       "    <tr>\n",
       "      <th>584754</th>\n",
       "      <td>DS_PMDBS_0001</td>\n",
       "      <td>VC</td>\n",
       "      <td>ENSG00000273748</td>\n",
       "      <td>-0.184510</td>\n",
       "      <td>0.423723</td>\n",
       "      <td>0.663237</td>\n",
       "      <td>25</td>\n",
       "      <td>asap-cohort.full_frontal_ctx_psuedobulk_de.met...</td>\n",
       "    </tr>\n",
       "    <tr>\n",
       "      <th>584755</th>\n",
       "      <td>DS_PMDBS_0001</td>\n",
       "      <td>VC</td>\n",
       "      <td>ENSG00000271254</td>\n",
       "      <td>-0.000147</td>\n",
       "      <td>0.416669</td>\n",
       "      <td>0.999719</td>\n",
       "      <td>25</td>\n",
       "      <td>asap-cohort.full_frontal_ctx_psuedobulk_de.met...</td>\n",
       "    </tr>\n",
       "    <tr>\n",
       "      <th>584756</th>\n",
       "      <td>DS_PMDBS_0001</td>\n",
       "      <td>VC</td>\n",
       "      <td>ENSG00000276345</td>\n",
       "      <td>0.189131</td>\n",
       "      <td>0.433244</td>\n",
       "      <td>0.662441</td>\n",
       "      <td>25</td>\n",
       "      <td>asap-cohort.full_frontal_ctx_psuedobulk_de.met...</td>\n",
       "    </tr>\n",
       "    <tr>\n",
       "      <th>584757</th>\n",
       "      <td>DS_PMDBS_0001</td>\n",
       "      <td>VC</td>\n",
       "      <td>ENSG00000278817</td>\n",
       "      <td>0.092238</td>\n",
       "      <td>0.421541</td>\n",
       "      <td>0.826796</td>\n",
       "      <td>25</td>\n",
       "      <td>asap-cohort.full_frontal_ctx_psuedobulk_de.met...</td>\n",
       "    </tr>\n",
       "    <tr>\n",
       "      <th>584758</th>\n",
       "      <td>DS_PMDBS_0001</td>\n",
       "      <td>VC</td>\n",
       "      <td>ENSG00000277196</td>\n",
       "      <td>0.404107</td>\n",
       "      <td>0.431113</td>\n",
       "      <td>0.348574</td>\n",
       "      <td>25</td>\n",
       "      <td>asap-cohort.full_frontal_ctx_psuedobulk_de.met...</td>\n",
       "    </tr>\n",
       "  </tbody>\n",
       "</table>\n",
       "<p>506472 rows × 8 columns</p>\n",
       "</div>"
      ],
      "text/plain": [
       "              DATASET CELL_TYPE             ENSG      BETA        SE  \\\n",
       "0       DS_PMDBS_0004       ExN  ENSG00000243485 -0.182149  0.438393   \n",
       "1       DS_PMDBS_0004       ExN  ENSG00000238009 -0.042635  0.457299   \n",
       "2       DS_PMDBS_0004       ExN  ENSG00000239945 -0.291216  0.457279   \n",
       "4       DS_PMDBS_0004       ExN  ENSG00000241860 -0.219766  0.486330   \n",
       "6       DS_PMDBS_0004       ExN  ENSG00000286448 -0.086074  0.448005   \n",
       "...               ...       ...              ...       ...       ...   \n",
       "584754  DS_PMDBS_0001        VC  ENSG00000273748 -0.184510  0.423723   \n",
       "584755  DS_PMDBS_0001        VC  ENSG00000271254 -0.000147  0.416669   \n",
       "584756  DS_PMDBS_0001        VC  ENSG00000276345  0.189131  0.433244   \n",
       "584757  DS_PMDBS_0001        VC  ENSG00000278817  0.092238  0.421541   \n",
       "584758  DS_PMDBS_0001        VC  ENSG00000277196  0.404107  0.431113   \n",
       "\n",
       "               P   N                                               FILE  \n",
       "0       0.677781  22  asap-cohort.full_frontal_ctx_psuedobulk_de.met...  \n",
       "1       0.925719  22  asap-cohort.full_frontal_ctx_psuedobulk_de.met...  \n",
       "2       0.524226  22  asap-cohort.full_frontal_ctx_psuedobulk_de.met...  \n",
       "4       0.651350  22  asap-cohort.full_frontal_ctx_psuedobulk_de.met...  \n",
       "6       0.847642  22  asap-cohort.full_frontal_ctx_psuedobulk_de.met...  \n",
       "...          ...  ..                                                ...  \n",
       "584754  0.663237  25  asap-cohort.full_frontal_ctx_psuedobulk_de.met...  \n",
       "584755  0.999719  25  asap-cohort.full_frontal_ctx_psuedobulk_de.met...  \n",
       "584756  0.662441  25  asap-cohort.full_frontal_ctx_psuedobulk_de.met...  \n",
       "584757  0.826796  25  asap-cohort.full_frontal_ctx_psuedobulk_de.met...  \n",
       "584758  0.348574  25  asap-cohort.full_frontal_ctx_psuedobulk_de.met...  \n",
       "\n",
       "[506472 rows x 8 columns]"
      ]
     },
     "execution_count": 63,
     "metadata": {},
     "output_type": "execute_result"
    },
    {
     "name": "stdout",
     "output_type": "stream",
     "text": [
      "time: 11.7 ms (started: 2025-02-26 03:44:33 +00:00)\n"
     ]
    }
   ],
   "source": [
    "all_data_df"
   ]
  },
  {
   "cell_type": "markdown",
   "id": "5dd54ebc",
   "metadata": {},
   "source": [
    "###  Fixed effect and random-effect meta-analysis"
   ]
  },
  {
   "cell_type": "markdown",
   "id": "20509e07",
   "metadata": {},
   "source": [
    "These are the functions below that power the meta-analyses.\n"
   ]
  },
  {
   "cell_type": "code",
   "execution_count": 64,
   "id": "7a4a216c",
   "metadata": {},
   "outputs": [
    {
     "name": "stdout",
     "output_type": "stream",
     "text": [
      "time: 1.47 ms (started: 2025-02-26 03:44:36 +00:00)\n"
     ]
    }
   ],
   "source": [
    "# Function to calculate fixed effect meta-analysis\n",
    "def fixed_effect_meta_analysis(betas, ses):\n",
    "    weights = 1 / (ses**2)\n",
    "    beta_fe = np.sum(weights * betas) / np.sum(weights)\n",
    "    se_fe = np.sqrt(1 / np.sum(weights))\n",
    "    z_fe = beta_fe / se_fe\n",
    "    p_fe = 2 * norm.sf(abs(z_fe))\n",
    "    return beta_fe, se_fe, p_fe\n",
    "\n",
    "\n",
    "# Function to calculate random effect meta-analysis\n",
    "def random_effect_meta_analysis(betas, ses):\n",
    "    weights = 1 / (ses**2)\n",
    "    beta_fe, se_fe, _ = fixed_effect_meta_analysis(betas, ses)\n",
    "    q_stat = np.sum(weights * ((betas - beta_fe) ** 2))\n",
    "    df = len(betas) - 1\n",
    "    tau2 = max(\n",
    "        0, (q_stat - df) / (np.sum(weights) - np.sum(weights**2) / np.sum(weights))\n",
    "    )\n",
    "    weights_re = 1 / (ses**2 + tau2)\n",
    "    beta_re = np.sum(weights_re * betas) / np.sum(weights_re)\n",
    "    se_re = np.sqrt(1 / np.sum(weights_re))\n",
    "    z_re = beta_re / se_re\n",
    "    p_re = 2 * norm.sf(abs(z_re))\n",
    "    i2 = max(0, ((q_stat - df) / q_stat) * 100 if q_stat > df else 0)\n",
    "    return beta_re, se_re, p_re, i2"
   ]
  },
  {
   "cell_type": "markdown",
   "id": "52d976f5",
   "metadata": {},
   "source": [
    "Note the code below deletes results whihc have a BETA value > |3|. A BETA value this large is indicative of poor model fit.\n",
    "Also note, this is a strict FDR, correcting for all tests done across cell types."
   ]
  },
  {
   "cell_type": "code",
   "execution_count": 65,
   "id": "38e2fb67",
   "metadata": {},
   "outputs": [
    {
     "name": "stdout",
     "output_type": "stream",
     "text": [
      "/home/jupyter/workspace/ws_files/workshop_files/asap-cohort.full_frontal_ctx_psuedobulk_de.meta_analysis_DS_PMDBS_0001.csv\n",
      "/home/jupyter/workspace/ws_files/workshop_files/asap-cohort.full_frontal_ctx_psuedobulk_de.meta_analysis_DS_PMDBS_0002.csv\n",
      "/home/jupyter/workspace/ws_files/workshop_files/asap-cohort.full_frontal_ctx_psuedobulk_de.meta_analysis_DS_PMDBS_0004.csv\n",
      "time: 78.7 ms (started: 2025-02-26 03:44:37 +00:00)\n"
     ]
    }
   ],
   "source": [
    "dataset_de_filenms = local_data_path.glob(\n",
    "    f\"asap-{dataset_team}.full_frontal_ctx_psuedobulk_de.meta_analysis_*.csv\"\n",
    ")\n",
    "for file in dataset_de_filenms:\n",
    "    print(file)"
   ]
  },
  {
   "cell_type": "code",
   "execution_count": 66,
   "id": "95bbaff4",
   "metadata": {},
   "outputs": [
    {
     "name": "stdout",
     "output_type": "stream",
     "text": [
      "Data already loaded\n",
      "time: 401 ms (started: 2025-02-26 03:44:37 +00:00)\n"
     ]
    }
   ],
   "source": [
    "data_loaded = True\n",
    "\n",
    "if not data_loaded:\n",
    "    #  Pull the trigger and meta-analyze\n",
    "    all_data = []\n",
    "    dataset_de_filenms = local_data_path.glob(\n",
    "        f\"asap-{dataset_team}.full_frontal_ctx_psuedobulk_de.meta_analysis_*.csv\"\n",
    "    )\n",
    "    for file in dataset_de_filenms:\n",
    "        df = pd.read_csv(file)\n",
    "        # Ignore rows where BETA > |3|\n",
    "        df = df[df[\"BETA\"].abs() <= 3]\n",
    "        df[\"FILE\"] = file.name\n",
    "        all_data.append(df)\n",
    "\n",
    "    # Combine all data\n",
    "    all_data_df = pd.concat(all_data, ignore_index=True)\n",
    "\n",
    "else:\n",
    "    print(\"Data already loaded\")\n",
    "    # add a FILE column to the dataframe\n",
    "    all_data_df[\"FILE\"] = all_data_df[\"DATASET\"].apply(\n",
    "        lambda x: f\"asap-{dataset_team}.full_frontal_ctx_psuedobulk_de.meta_analysis_{x}.csv\"\n",
    "    )\n",
    "    # Ignore rows where BETA > |3|\n",
    "    all_data_df = all_data_df[all_data_df[\"BETA\"].abs() <= 3]"
   ]
  },
  {
   "cell_type": "code",
   "execution_count": 67,
   "id": "83cc2575",
   "metadata": {},
   "outputs": [
    {
     "data": {
      "text/plain": [
       "'VC'"
      ]
     },
     "execution_count": 67,
     "metadata": {},
     "output_type": "execute_result"
    },
    {
     "name": "stdout",
     "output_type": "stream",
     "text": [
      "time: 2.7 ms (started: 2025-02-26 03:44:38 +00:00)\n"
     ]
    }
   ],
   "source": [
    "cell_type"
   ]
  },
  {
   "cell_type": "code",
   "execution_count": 68,
   "id": "c085f91f",
   "metadata": {},
   "outputs": [
    {
     "name": "stdout",
     "output_type": "stream",
     "text": [
      "time: 1min 56s (started: 2025-02-26 03:44:38 +00:00)\n"
     ]
    }
   ],
   "source": [
    "# Group by CELL_TYPE and ENSG\n",
    "meta_analysis_results = []\n",
    "for (cell_type, ensg), group in all_data_df.groupby([\"CELL_TYPE\", \"ENSG\"]):\n",
    "    if group[\"FILE\"].nunique() < 2:\n",
    "        continue  # Skip combinations not present in at least two results files\n",
    "\n",
    "    betas = group[\"BETA\"].values\n",
    "    ses = group[\"SE\"].values\n",
    "\n",
    "    # Perform fixed effect meta-analysis\n",
    "    beta_fe, se_fe, p_fe = fixed_effect_meta_analysis(betas, ses)\n",
    "\n",
    "    # Perform random effect meta-analysis\n",
    "    beta_re, se_re, p_re, i2 = random_effect_meta_analysis(betas, ses)\n",
    "\n",
    "    # Collect results\n",
    "    meta_analysis_results.append(\n",
    "        {\n",
    "            \"CELL_TYPE\": cell_type,\n",
    "            \"ENSG\": ensg,\n",
    "            \"BETA_FE\": beta_fe,\n",
    "            \"SE_FE\": se_fe,\n",
    "            \"P_FE\": p_fe,\n",
    "            \"BETA_RE\": beta_re,\n",
    "            \"SE_RE\": se_re,\n",
    "            \"P_RE\": p_re,\n",
    "            \"I2\": i2,\n",
    "        }\n",
    "    )\n",
    "\n",
    "# Convert results to DataFrame\n",
    "results_df = pd.DataFrame(meta_analysis_results)"
   ]
  },
  {
   "cell_type": "code",
   "execution_count": 69,
   "id": "436c621d",
   "metadata": {},
   "outputs": [
    {
     "name": "stdout",
     "output_type": "stream",
     "text": [
      "Meta-analysis results saved to /home/jupyter/workspace/ws_files/workshop_files/meta_analysis_results_20250226.csv\n",
      "time: 3.11 s (started: 2025-02-26 03:46:35 +00:00)\n"
     ]
    }
   ],
   "source": [
    "# Apply FDR correction\n",
    "results_df[\"P_FE_FDR\"] = multipletests(results_df[\"P_FE\"], method=\"fdr_bh\")[1]\n",
    "results_df[\"P_RE_FDR\"] = multipletests(results_df[\"P_RE\"], method=\"fdr_bh\")[1]\n",
    "\n",
    "# Save results to CSV\n",
    "# timestamp = pd.Timestamp.now().strftime(\"%Y%m%d_%H%M%S\")\n",
    "timestamp = pd.Timestamp.now().strftime(\"%Y%m%d\")\n",
    "\n",
    "\n",
    "output_file = local_data_path / f\"meta_analysis_results_{timestamp}.csv\"\n",
    "results_df.to_csv(output_file, index=False)\n",
    "\n",
    "print(f\"Meta-analysis results saved to {output_file}\")"
   ]
  },
  {
   "cell_type": "code",
   "execution_count": 70,
   "id": "2cda2a02",
   "metadata": {},
   "outputs": [
    {
     "data": {
      "text/plain": [
       "array(['Astro', 'ExN', 'InN', 'MG', 'OPC', 'Oligo', 'VC'], dtype=object)"
      ]
     },
     "execution_count": 70,
     "metadata": {},
     "output_type": "execute_result"
    },
    {
     "name": "stdout",
     "output_type": "stream",
     "text": [
      "time: 9.51 ms (started: 2025-02-26 03:46:38 +00:00)\n"
     ]
    }
   ],
   "source": [
    "results_df[\"CELL_TYPE\"].unique()"
   ]
  },
  {
   "cell_type": "markdown",
   "id": "57429e28",
   "metadata": {},
   "source": [
    "### Summarize results\n",
    "\n",
    "Lets see which genes are significant.   We'll also add gene-names for easy interrogation."
   ]
  },
  {
   "cell_type": "code",
   "execution_count": 71,
   "id": "5277e8b6",
   "metadata": {},
   "outputs": [
    {
     "name": "stdout",
     "output_type": "stream",
     "text": [
      "Empty DataFrame\n",
      "Columns: [CELL_TYPE, ENSG, BETA_FE, SE_FE, P_FE, BETA_RE, SE_RE, P_RE, I2, P_FE_FDR, P_RE_FDR]\n",
      "Index: []\n",
      "time: 3.85 ms (started: 2025-02-26 03:46:38 +00:00)\n"
     ]
    }
   ],
   "source": [
    "# Filter the rows where either P_FE_FDR or P_RE_FDR is significant (less than 0.05)\n",
    "significant_rows = results_df[\n",
    "    (results_df[\"P_FE_FDR\"] < 0.05) | (results_df[\"P_RE_FDR\"] < 0.05)\n",
    "]\n",
    "# Print the significant rows to the screen\n",
    "print(significant_rows)"
   ]
  },
  {
   "cell_type": "code",
   "execution_count": 72,
   "id": "2e24de76",
   "metadata": {},
   "outputs": [
    {
     "data": {
      "text/html": [
       "<div>\n",
       "<style scoped>\n",
       "    .dataframe tbody tr th:only-of-type {\n",
       "        vertical-align: middle;\n",
       "    }\n",
       "\n",
       "    .dataframe tbody tr th {\n",
       "        vertical-align: top;\n",
       "    }\n",
       "\n",
       "    .dataframe thead th {\n",
       "        text-align: right;\n",
       "    }\n",
       "</style>\n",
       "<table border=\"1\" class=\"dataframe\">\n",
       "  <thead>\n",
       "    <tr style=\"text-align: right;\">\n",
       "      <th></th>\n",
       "      <th>CELL_TYPE</th>\n",
       "      <th>ENSG</th>\n",
       "      <th>BETA_FE</th>\n",
       "      <th>SE_FE</th>\n",
       "      <th>P_FE</th>\n",
       "      <th>BETA_RE</th>\n",
       "      <th>SE_RE</th>\n",
       "      <th>P_RE</th>\n",
       "      <th>I2</th>\n",
       "      <th>P_FE_FDR</th>\n",
       "      <th>P_RE_FDR</th>\n",
       "      <th>gene_name</th>\n",
       "    </tr>\n",
       "  </thead>\n",
       "  <tbody>\n",
       "  </tbody>\n",
       "</table>\n",
       "</div>"
      ],
      "text/plain": [
       "Empty DataFrame\n",
       "Columns: [CELL_TYPE, ENSG, BETA_FE, SE_FE, P_FE, BETA_RE, SE_RE, P_RE, I2, P_FE_FDR, P_RE_FDR, gene_name]\n",
       "Index: []"
      ]
     },
     "execution_count": 72,
     "metadata": {},
     "output_type": "execute_result"
    },
    {
     "name": "stdout",
     "output_type": "stream",
     "text": [
      "time: 17.4 ms (started: 2025-02-26 03:46:38 +00:00)\n"
     ]
    }
   ],
   "source": [
    "significant_rows = significant_rows.merge(\n",
    "    pb.var, left_on=\"ENSG\", right_index=True, how=\"left\"\n",
    ")\n",
    "significant_rows"
   ]
  },
  {
   "cell_type": "code",
   "execution_count": 73,
   "id": "203f5f80",
   "metadata": {},
   "outputs": [
    {
     "data": {
      "text/plain": [
       "Series([], Name: gene_name, dtype: object)"
      ]
     },
     "execution_count": 73,
     "metadata": {},
     "output_type": "execute_result"
    },
    {
     "name": "stdout",
     "output_type": "stream",
     "text": [
      "time: 3.12 ms (started: 2025-02-26 03:46:38 +00:00)\n"
     ]
    }
   ],
   "source": [
    "significant_rows[\"gene_name\"]"
   ]
  },
  {
   "cell_type": "markdown",
   "id": "89c872e8-1355-47df-ac3f-12144a7d3bf2",
   "metadata": {},
   "source": [
    "Nothing was consistent across the contributions with this analysis!  Null result."
   ]
  },
  {
   "cell_type": "markdown",
   "id": "2895d3ed",
   "metadata": {},
   "source": [
    "-----------------\n",
    "# Finished!!!\n",
    "\n",
    "Well done!  Now you are ready to to leverage the ASAP CRN Cloud datasets!\n",
    "\n"
   ]
  },
  {
   "cell_type": "code",
   "execution_count": null,
   "id": "b8b91d7d",
   "metadata": {},
   "outputs": [],
   "source": [
    "# ## Quick annotate the gene symbiols for easy use by others.\n",
    "# ! pip install mygene\n",
    "\n",
    "# import mygene\n",
    "\n",
    "# # Initialize mygene\n",
    "# mg = mygene.MyGeneInfo()\n",
    "\n",
    "# ensg_ids = significant_rows[\"ensmbl_ID\"].tolist()\n",
    "# annotations = mg.querymany(\n",
    "#     ensg_ids, scopes=\"ensembl.gene\", fields=\"symbol\", species=\"human\"\n",
    "# )\n",
    "\n",
    "# # Create a mapping of ENSG IDs to gene symbols\n",
    "# annotation_dict = {entry[\"query\"]: entry.get(\"symbol\", None) for entry in annotations}\n",
    "\n",
    "# # Add a new column with gene symbols to the DataFrame\n",
    "# significant_rows[\"Gene_Symbol\"] = significant_rows[\"ensmbl_ID\"].map(annotation_dict)\n",
    "\n",
    "# significant_rows"
   ]
  },
  {
   "cell_type": "markdown",
   "id": "6a2ff285-4fda-4749-97b5-26a07c537c31",
   "metadata": {},
   "source": [
    "--------------------\n",
    "# Provenance\n",
    "Generate information about this notebook environment and the packages installed."
   ]
  },
  {
   "cell_type": "code",
   "execution_count": 24,
   "id": "64005efc-83be-467d-8673-62fa6fcbdca9",
   "metadata": {
    "tags": []
   },
   "outputs": [
    {
     "name": "stdout",
     "output_type": "stream",
     "text": [
      "Thu Feb 27 10:12:33 AM UTC 2025\n",
      "time: 130 ms (started: 2025-02-27 10:12:33 +00:00)\n"
     ]
    }
   ],
   "source": [
    "!date"
   ]
  },
  {
   "cell_type": "markdown",
   "id": "355aaf0f-c1ce-42f6-ba39-e6be358e8df0",
   "metadata": {},
   "source": [
    "pip installed packages:"
   ]
  },
  {
   "cell_type": "code",
   "execution_count": 23,
   "id": "be17a059-7f0d-4348-b89d-102b89c06eba",
   "metadata": {
    "tags": []
   },
   "outputs": [
    {
     "name": "stdout",
     "output_type": "stream",
     "text": [
      "absl-py==2.1.0\n",
      "anndata==0.11.3\n",
      "annotated-types==0.7.0\n",
      "anyio==4.8.0\n",
      "argon2-cffi==23.1.0\n",
      "argon2-cffi-bindings==21.2.0\n",
      "array_api_compat==1.10.0\n",
      "arrow==1.3.0\n",
      "asttokens==3.0.0\n",
      "astunparse==1.6.3\n",
      "async-lru==2.0.4\n",
      "attrs==25.1.0\n",
      "awscli==1.22.34\n",
      "babel==2.16.0\n",
      "beautifulsoup4==4.12.3\n",
      "bleach==6.2.0\n",
      "blinker==1.4\n",
      "botocore==1.23.34\n",
      "cachetools==5.5.1\n",
      "certifi==2020.6.20\n",
      "cffi==1.17.1\n",
      "chardet==4.0.0\n",
      "charset-normalizer==3.4.1\n",
      "colorama==0.4.4\n",
      "comm==0.2.2\n",
      "contourpy==1.3.1\n",
      "cryptography==3.4.8\n",
      "cycler==0.12.1\n",
      "Cython==3.0.11\n",
      "dbus-python==1.2.18\n",
      "debugpy==1.8.12\n",
      "decorator==5.1.1\n",
      "defusedxml==0.7.1\n",
      "distro==1.7.0\n",
      "docstring_parser==0.16\n",
      "docutils==0.17.1\n",
      "exceptiongroup==1.2.2\n",
      "executing==2.2.0\n",
      "fastjsonschema==2.21.1\n",
      "filelock==3.17.0\n",
      "flatbuffers==25.1.24\n",
      "fonttools==4.55.8\n",
      "fqdn==1.5.1\n",
      "gast==0.6.0\n",
      "gitdb==4.0.12\n",
      "GitPython==3.1.44\n",
      "google-api-core==2.24.1\n",
      "google-auth==2.38.0\n",
      "google-auth-oauthlib==1.0.0\n",
      "google-cloud-aiplatform==1.72.0\n",
      "google-cloud-artifact-registry==1.13.1\n",
      "google-cloud-bigquery==3.25.0\n",
      "google-cloud-bigquery-connection==1.16.1\n",
      "google-cloud-bigquery-storage==2.27.0\n",
      "google-cloud-core==2.4.1\n",
      "google-cloud-resource-manager==1.14.0\n",
      "google-cloud-storage==2.14.0\n",
      "google-crc32c==1.6.0\n",
      "google-pasta==0.2.0\n",
      "google-resumable-media==2.7.2\n",
      "googleapis-common-protos==1.66.0\n",
      "grpc-google-iam-v1==0.14.0\n",
      "grpcio==1.70.0\n",
      "grpcio-status==1.70.0\n",
      "h11==0.14.0\n",
      "h5py==3.12.1\n",
      "httpcore==1.0.7\n",
      "httplib2==0.20.2\n",
      "httpx==0.28.1\n",
      "idna==3.3\n",
      "importlib-metadata==4.6.4\n",
      "ipykernel==6.29.5\n",
      "ipython==8.32.0\n",
      "ipython-autotime==0.3.2\n",
      "ipywidgets==8.1.5\n",
      "isoduration==20.11.0\n",
      "jedi==0.19.2\n",
      "jeepney==0.7.1\n",
      "Jinja2==3.1.5\n",
      "jmespath==0.10.0\n",
      "joblib==1.4.2\n",
      "json5==0.10.0\n",
      "jsonpointer==3.0.0\n",
      "jsonschema==4.23.0\n",
      "jsonschema-specifications==2024.10.1\n",
      "jupyter-events==0.11.0\n",
      "jupyter-lsp==2.2.5\n",
      "jupyter-server-mathjax==0.2.6\n",
      "jupyter_client==8.6.3\n",
      "jupyter_core==5.7.2\n",
      "jupyter_server==2.15.0\n",
      "jupyter_server_terminals==0.5.3\n",
      "jupyterlab==4.3.4\n",
      "jupyterlab_git==0.50.2\n",
      "jupyterlab_pygments==0.3.0\n",
      "jupyterlab_server==2.27.3\n",
      "jupyterlab_widgets==3.0.13\n",
      "jupytext==1.16.4\n",
      "keras==2.14.0\n",
      "keyring==23.5.0\n",
      "kiwisolver==1.4.8\n",
      "launchpadlib==1.10.16\n",
      "lazr.restfulclient==0.14.4\n",
      "lazr.uri==1.0.6\n",
      "legacy-api-wrap==1.4.1\n",
      "libclang==18.1.1\n",
      "llvmlite==0.44.0\n",
      "Markdown==3.7\n",
      "markdown-it-py==3.0.0\n",
      "MarkupSafe==3.0.2\n",
      "matplotlib==3.9.0\n",
      "matplotlib-inline==0.1.7\n",
      "mdit-py-plugins==0.4.2\n",
      "mdurl==0.1.2\n",
      "mistune==3.1.1\n",
      "mizani==0.13.1\n",
      "ml-dtypes==0.2.0\n",
      "more-itertools==8.10.0\n",
      "mpmath==1.3.0\n",
      "natsort==8.4.0\n",
      "nbclient==0.10.2\n",
      "nbconvert==7.16.6\n",
      "nbdime==4.0.2\n",
      "nbformat==5.10.4\n",
      "nest-asyncio==1.6.0\n",
      "networkx==3.4.2\n",
      "notebook_shim==0.2.4\n",
      "numba==0.61.0\n",
      "numpy==1.26.0\n",
      "oauthlib==3.2.0\n",
      "opt_einsum==3.4.0\n",
      "overrides==7.7.0\n",
      "packaging==24.2\n",
      "pandas==2.2.1\n",
      "pandocfilters==1.5.1\n",
      "parso==0.8.4\n",
      "patsy==1.0.1\n",
      "pexpect==4.9.0\n",
      "pillow==11.1.0\n",
      "platformdirs==4.3.6\n",
      "plotnine==0.14.5\n",
      "prometheus_client==0.21.1\n",
      "prompt_toolkit==3.0.50\n",
      "proto-plus==1.26.0\n",
      "protobuf==4.25.6\n",
      "psutil==6.1.1\n",
      "ptyprocess==0.7.0\n",
      "pure_eval==0.2.3\n",
      "pyasn1==0.4.8\n",
      "pyasn1_modules==0.4.1\n",
      "pycparser==2.22\n",
      "pydantic==2.10.6\n",
      "pydantic_core==2.27.2\n",
      "Pygments==2.18.0\n",
      "PyGObject==3.42.1\n",
      "PyJWT==2.3.0\n",
      "pynndescent==0.5.13\n",
      "pyparsing==2.4.7\n",
      "python-apt==2.4.0+ubuntu4\n",
      "python-dateutil==2.9.0.post0\n",
      "python-json-logger==3.2.1\n",
      "pytz==2025.1\n",
      "PyYAML==5.4.1\n",
      "pyzmq==26.2.1\n",
      "referencing==0.36.2\n",
      "requests==2.32.3\n",
      "requests-oauthlib==2.0.0\n",
      "rfc3339-validator==0.1.4\n",
      "rfc3986-validator==0.1.1\n",
      "roman==3.3\n",
      "rpds-py==0.22.3\n",
      "rsa==4.8\n",
      "s3transfer==0.5.0\n",
      "scanpy==1.11.0\n",
      "scikit-learn==1.5.2\n",
      "scipy==1.15.2\n",
      "seaborn==0.13.2\n",
      "SecretStorage==3.3.1\n",
      "Send2Trash==1.8.3\n",
      "session-info2==0.1.2\n",
      "shapely==2.0.7\n",
      "six==1.16.0\n",
      "smmap==5.0.2\n",
      "sniffio==1.3.1\n",
      "soupsieve==2.6\n",
      "stack-data==0.6.3\n",
      "statsmodels==0.14.4\n",
      "sympy==1.13.3\n",
      "tensorboard==2.14.1\n",
      "tensorboard-data-server==0.7.2\n",
      "tensorflow==2.14.0\n",
      "tensorflow-estimator==2.14.0\n",
      "tensorflow-io-gcs-filesystem==0.37.1\n",
      "termcolor==2.5.0\n",
      "terminado==0.18.1\n",
      "threadpoolctl==3.5.0\n",
      "tinycss2==1.4.0\n",
      "tomli==2.2.1\n",
      "torch==2.0.1+cu118\n",
      "torchaudio==2.0.2+cu118\n",
      "torchvision==0.15.2+cu118\n",
      "tornado==6.4.2\n",
      "tqdm==4.67.1\n",
      "traitlets==5.14.3\n",
      "triton==3.1.0\n",
      "types-python-dateutil==2.9.0.20241206\n",
      "typing_extensions==4.12.2\n",
      "tzdata==2025.1\n",
      "umap-learn==0.5.7\n",
      "uri-template==1.3.0\n",
      "urllib3==1.26.5\n",
      "wadllib==1.3.6\n",
      "wcwidth==0.2.13\n",
      "webcolors==24.11.1\n",
      "webencodings==0.5.1\n",
      "websocket-client==1.8.0\n",
      "Werkzeug==3.1.3\n",
      "widgetsnbextension==4.0.13\n",
      "wrapt==1.14.1\n",
      "zipp==1.0.0\n",
      "time: 637 ms (started: 2025-02-27 10:12:29 +00:00)\n"
     ]
    }
   ],
   "source": [
    "!pip freeze"
   ]
  },
  {
   "cell_type": "markdown",
   "id": "85446495-4def-4f49-ad33-ee5ad56d7986",
   "metadata": {},
   "source": [
    "JupyterLab extensions:"
   ]
  },
  {
   "cell_type": "code",
   "execution_count": 25,
   "id": "714ce13f-06ee-462d-8357-acd1970de3bf",
   "metadata": {
    "tags": []
   },
   "outputs": [
    {
     "name": "stdout",
     "output_type": "stream",
     "text": [
      "`sys_prefix` level settings are read-only, using `user` level for migration to `lockedExtensions`\n",
      "JupyterLab v4.3.4\n",
      "/home/jupyter/.local/share/jupyter/labextensions\n",
      "        jupyterlab_pygments v0.3.0 \u001b[32menabled\u001b[0m \u001b[32mOK\u001b[0m (python, jupyterlab_pygments)\n",
      "        jupyterlab-jupytext v1.4.3 \u001b[32menabled\u001b[0m \u001b[32mOK\u001b[0m (python, jupytext)\n",
      "        nbdime-jupyterlab v3.0.2 \u001b[32menabled\u001b[0m \u001b[32mOK\u001b[0m\n",
      "        @jupyterlab/git v0.50.2 \u001b[32menabled\u001b[0m \u001b[32mOK\u001b[0m (python, jupyterlab-git)\n",
      "        @jupyter-widgets/jupyterlab-manager v5.0.13 \u001b[32menabled\u001b[0m \u001b[32mOK\u001b[0m (python, jupyterlab_widgets)\n",
      "\n",
      "time: 2.19 s (started: 2025-02-27 10:12:38 +00:00)\n"
     ]
    }
   ],
   "source": [
    "!jupyter labextension list"
   ]
  },
  {
   "cell_type": "markdown",
   "id": "8066c8d0-e3c5-4224-88a3-e42e9e31e93a",
   "metadata": {},
   "source": [
    "Number of cores:"
   ]
  },
  {
   "cell_type": "code",
   "execution_count": 26,
   "id": "cde2e747-6967-40cc-b38c-36ca1b45b121",
   "metadata": {
    "tags": []
   },
   "outputs": [
    {
     "name": "stdout",
     "output_type": "stream",
     "text": [
      "16\n",
      "time: 131 ms (started: 2025-02-27 10:12:40 +00:00)\n"
     ]
    }
   ],
   "source": [
    "!grep ^processor /proc/cpuinfo | wc -l"
   ]
  },
  {
   "cell_type": "markdown",
   "id": "abde8571-0073-48f6-9210-1d653695a0cf",
   "metadata": {},
   "source": [
    "Memory:"
   ]
  },
  {
   "cell_type": "code",
   "execution_count": 27,
   "id": "b78bb0e2-525a-40ac-b313-28c4e32bcda6",
   "metadata": {
    "tags": []
   },
   "outputs": [
    {
     "name": "stdout",
     "output_type": "stream",
     "text": [
      "MemTotal:       107131888 kB\n",
      "time: 130 ms (started: 2025-02-27 10:12:40 +00:00)\n"
     ]
    }
   ],
   "source": [
    "!grep \"^MemTotal:\" /proc/meminfo"
   ]
  },
  {
   "cell_type": "code",
   "execution_count": null,
   "id": "b4b56d3b-a561-4c05-936b-679e36b02fd9",
   "metadata": {},
   "outputs": [],
   "source": []
  }
 ],
 "metadata": {
  "kernelspec": {
   "display_name": "Python 3",
   "language": "python",
   "name": "python3"
  },
  "language_info": {
   "codemirror_mode": {
    "name": "ipython",
    "version": 3
   },
   "file_extension": ".py",
   "mimetype": "text/x-python",
   "name": "python",
   "nbconvert_exporter": "python",
   "pygments_lexer": "ipython3",
   "version": "3.10.12"
  }
 },
 "nbformat": 4,
 "nbformat_minor": 5
}
