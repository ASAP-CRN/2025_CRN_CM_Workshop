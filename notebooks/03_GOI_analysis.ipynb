{
 "cells": [
  {
   "cell_type": "markdown",
   "id": "251f4289-3e18-466f-8ce0-f3d3121474d4",
   "metadata": {},
   "source": [
    "# 2025 ASAP CRN Colloborative Meeting - CRN Cloud Training Workshop Notebook #3\n",
    "\n",
    "## Overview\n",
    "This notebook is part 3: \n",
    "- Gene of Interest (GOI) Analysis , which constitutes the bulk of the workshop's activities\n",
    "\n",
    "## Outline \n",
    "\n",
    "This notebook shows how to load ASAP CRN Cloud data for the harmonized cohort of scRNAseq datasets.  (All contrubted datasets in this collection are technically single-_nucleus_ samples.)   \n",
    "\n",
    "\n",
    "3. [Gene of Interest Analysis (__Workshop__)](#part-3-gene-of-interest-analysis-workshop)\n",
    "    * Choose Parkinson's Disease relavent gene\n",
    "    * visualize specific gene expression\n",
    "\n",
    "\n",
    "\n",
    "## Notebooks\n",
    "All of this content can be found in shorter more specific notebooks.  E.g. During the workshop you can follow along for Parts 1 & 2, but should start with Part 3 ([03_GOI_analysis.ipynb](./03_GOI_analysis.ipynb))\n",
    "\n",
    "- This notebook [00_full_example_notebook.ipynb](./00_full_example_notebook.ipynb)\n",
    "    - Part 1 - [01_basic_EDA.ipynb](./01_basic_EDA.ipynb)  \n",
    "    - Part 2 - [02_dataset_composition.ipynb](./02_dataset_composition.ipynb)\n",
    "    - Part 3 - [03_GOI_analysis.ipynb](./03_GOI_analysis.ipynb)\n",
    "        - Part 3-R - [03-R_GOI_analysis.ipynb](./03-R_GOI_analysis.ipynb)\n",
    "    - Part 4 - [04_DE_analysis.ipynb](./04_DE_analysis.ipynb)\n",
    "\n",
    "\n",
    "------------------------------\n",
    ">> NOTES\n",
    ">>   need to develop an equivalent R version for part 1,2, and 4"
   ]
  },
  {
   "cell_type": "markdown",
   "id": "971a1c36",
   "metadata": {},
   "source": [
    "## Imports"
   ]
  },
  {
   "cell_type": "code",
   "execution_count": 1,
   "id": "4215af7d-4dcd-4cb8-ab82-2999c642dc27",
   "metadata": {
    "tags": []
   },
   "outputs": [
    {
     "name": "stdout",
     "output_type": "stream",
     "text": [
      "time: 275 μs (started: 2025-02-27 10:07:38 +00:00)\n"
     ]
    }
   ],
   "source": [
    "import numpy as np\n",
    "import pandas as pd\n",
    "\n",
    "# Use pathlib for file path manipulation\n",
    "from pathlib import Path \n",
    "\n",
    "\n",
    "# matplotlib and seaborn a pythonic alternative to plotnine\n",
    "try:\n",
    "    import seaborn as sns\n",
    "    import matplotlib.pyplot as plt\n",
    "except ImportError as e:\n",
    "    print(\"Error -> \", e)\n",
    "    print(\"Installing seaborn or matplotlib\")\n",
    "    !pip install matplotlib seaborn\n",
    "    import seaborn as sns\n",
    "    import matplotlib.pyplot as plt\n",
    "\n",
    "\n",
    "try:\n",
    "    import scanpy as sc\n",
    "except ImportError as e:\n",
    "    print(\"Error -> \", e)\n",
    "    print(\"Installing scanpy\")\n",
    "    !pip install scanpy\n",
    "    import scanpy as sc\n",
    "\n",
    "try:\n",
    "    %load_ext autotime\n",
    "except:\n",
    "    !pip install ipython-autotime\n",
    "    %load_ext autotime\n",
    "\n",
    "# Always show all columns in a Pandas DataFrame\n",
    "pd.set_option('display.max_columns', None)"
   ]
  },
  {
   "cell_type": "markdown",
   "id": "11db0c4a-9383-4ecf-8462-b966b05e24d2",
   "metadata": {},
   "source": [
    "###  ASAP CRN data paths\n",
    "First, let's build the paths to our data. "
   ]
  },
  {
   "cell_type": "code",
   "execution_count": null,
   "id": "290f7e03-6997-4c35-9d14-1169ef794bb3",
   "metadata": {
    "tags": []
   },
   "outputs": [
    {
     "name": "stdout",
     "output_type": "stream",
     "text": [
      "time: 691 μs (started: 2025-02-27 10:07:38 +00:00)\n"
     ]
    }
   ],
   "source": [
    "# Workspace Path\n",
    "HOME_PATH = Path.home()\n",
    "WS_PATH =  HOME_PATH / 'workspace'\n",
    "if not WS_PATH.exists():\n",
    "    print(f\"{WS_PATH} doesn't exist. We need to remount our resources\")\n",
    "    !wb resource mount    "
   ]
  },
  {
   "cell_type": "markdown",
   "id": "4504cec7",
   "metadata": {},
   "source": [
    "We'll focus in on the datasets processed with our *PMDBS scRNAseq* workflow.  Specifically the _cohort_ dataset: `asap-cohort-pmdbs-sc-rnaseq`.  This dataset includes samples from 5 Contributing datasets which have been processesed and integrated.  The paths include the following parts.\n",
    "\n",
    "- `workflow` designates the workflow which performs the aggregation and integration.  In this case the [*PMDBS scRNAseq* workflow](https://github.com/ASAP-CRN/pmdbs-sc-rnaseq-wf)\n",
    "- `dataset_team` designates the contributing team for the dataset.  In this case _cohort_ designates that it is made from multiple individual contributed datasets.\n",
    "- `source` designates the _source_ of the samples.  In this case Post-mortem derived Brain samples\n",
    "- `dataset_type` designates the \n",
    "- `bucket_name` designates the datasets gcp bucket\n",
    "- `dataset_name` designates the unique designation for each dataset or collection"
   ]
  },
  {
   "cell_type": "code",
   "execution_count": 3,
   "id": "55896468-d9d0-4f9b-97c5-864b329ecaa3",
   "metadata": {
    "tags": []
   },
   "outputs": [
    {
     "name": "stdout",
     "output_type": "stream",
     "text": [
      "time: 1.24 ms (started: 2025-02-27 10:07:38 +00:00)\n"
     ]
    }
   ],
   "source": [
    "DATASETS_PATH = WS_PATH / \"01_PMDBS_scRNAseq_Datasets\"\n",
    "workflow = \"pmdbs_sc_rnaseq\"\n",
    "dataset_team = \"cohort\"\n",
    "dataset_source = \"pmdbs\"\n",
    "dataset_type = \"sc-rnaseq\"\n",
    "bucket_name = f\"asap-curated-{dataset_team}-{dataset_source}-{dataset_type}\"\n",
    "dataset_name = f\"asap-{dataset_team}-{dataset_source}-{dataset_type}\"\n",
    "dataset_path = DATASETS_PATH / bucket_name / workflow"
   ]
  },
  {
   "cell_type": "markdown",
   "id": "30cd4cc0",
   "metadata": {},
   "source": [
    "#### Cohort Analysis Path\n",
    "\n",
    "Now that we've defined the path to our cohort dataset, lets list the curated files for the `cohort_analysis`.   "
   ]
  },
  {
   "cell_type": "code",
   "execution_count": 4,
   "id": "6eb617d6-4503-4b74-ab79-a9511a4b2493",
   "metadata": {
    "tags": []
   },
   "outputs": [
    {
     "name": "stdout",
     "output_type": "stream",
     "text": [
      "time: 885 μs (started: 2025-02-27 10:07:38 +00:00)\n"
     ]
    }
   ],
   "source": [
    "cohort_analysis_path = dataset_path / \"cohort_analysis\""
   ]
  },
  {
   "cell_type": "markdown",
   "id": "2f6e94a5-2b06-4f56-a439-3b904ac4b5ea",
   "metadata": {},
   "source": [
    "#### Dataset Metadata Path\n",
    "\n",
    "The dataset metadata can be found in the `release_resources`.  Note that the metadata are organized by the _short_ `dataset_name` rather than `bucket_name`.  \n",
    "\n"
   ]
  },
  {
   "cell_type": "code",
   "execution_count": null,
   "id": "611b4a5a-a7ea-43b6-93c0-e60548238500",
   "metadata": {
    "tags": []
   },
   "outputs": [
    {
     "name": "stdout",
     "output_type": "stream",
     "text": [
      "ASSAY_RNAseq.csv  CONDITION.csv  PMDBS.csv     SAMPLE.csv  SUBJECT.csv\n",
      "CLINPATH.csv\t  DATA.csv\t PROTOCOL.csv  STUDY.csv\n",
      "time: 551 ms (started: 2025-02-27 10:07:38 +00:00)\n"
     ]
    }
   ],
   "source": [
    "ds_metadata_path = WS_PATH / 'release_resources/asap-crn-cloud-release-resources' / dataset_name / \"metadata\"\n",
    "\n",
    "!ls {ds_metadata_path} "
   ]
  },
  {
   "cell_type": "markdown",
   "id": "2779ed2c-d9a1-43e6-b5b6-7df643bb71fb",
   "metadata": {},
   "source": [
    "#### Workshop/Notebook Artifact Path\n",
    "\n",
    "This is the path to where the artifacts we've created in these notebooks can be found in case you want to skip ahead.  Particularly for the workshop."
   ]
  },
  {
   "cell_type": "code",
   "execution_count": null,
   "id": "5a064787",
   "metadata": {
    "tags": []
   },
   "outputs": [
    {
     "name": "stdout",
     "output_type": "stream",
     "text": [
      " asap-cohort.frontal_ctx_case_control_samples.h5ad\n",
      " asap-cohort.full_frontal_ctx_case_control_samples.h5ad\n",
      " asap-cohort.full_frontal_ctx_psuedobulk_de.csv\n",
      " asap-cohort.full_frontal_ctx_psuedobulk_de.meta_analysis_DS_PMDBS_0001.csv\n",
      " asap-cohort.full_frontal_ctx_psuedobulk_de.meta_analysis_DS_PMDBS_0002.csv\n",
      " asap-cohort.full_frontal_ctx_psuedobulk_de.meta_analysis_DS_PMDBS_0004.csv\n",
      " asap-cohort.full_frontal_ctx_psuedobulk.h5ad\n",
      "'GP2 European GWAS Manuscript Tables - Table 4.csv'\n",
      " workshop_ASAP_CRN_datasets_example.ipynb\n",
      " Workshop_Part1.ipynb\n",
      " Workshop_Part2.ipynb\n",
      " Workshop_Part3.ipynb\n",
      " Workshop_preamble.ipynb\n",
      " workspace_example1.png\n",
      "time: 278 ms (started: 2025-02-27 10:07:39 +00:00)\n"
     ]
    }
   ],
   "source": [
    "WORKSHOP_PATH = WS_PATH / \"release_resources/asap-crn-cloud-release-resources/release-artifacts/2025_CRN_CM_Workshop_Resources_03122025\" \n",
    "\n",
    "!ls {WORKSHOP_PATH}\n"
   ]
  },
  {
   "cell_type": "markdown",
   "id": "4ca8d87b",
   "metadata": {},
   "source": [
    "#### Local Data Path\n",
    "Lets also define a path for copying our data files and exporting intermediate analysis artifacts to your workspace.  In this example we'll make a \"workshop_files\" in the \"ws_files\" which are persistent in our Verily Workbench Workspace. "
   ]
  },
  {
   "cell_type": "code",
   "execution_count": null,
   "id": "feccfb70",
   "metadata": {},
   "outputs": [
    {
     "name": "stdout",
     "output_type": "stream",
     "text": [
      "time: 374 ms (started: 2025-02-27 10:07:39 +00:00)\n"
     ]
    }
   ],
   "source": [
    "local_data_path = WS_PATH / \"workshop_files\"\n",
    "\n",
    "if not local_data_path.exists():\n",
    "    local_data_path.mkdir(parents=True)"
   ]
  },
  {
   "cell_type": "markdown",
   "id": "98db8ecb-2e51-4926-83a1-bceb04baf6da",
   "metadata": {},
   "source": [
    "-----------------\n",
    "#  Part 3: Gene of interest analysis (__Workshop__)\n",
    "* Gene of interest analysis\n",
    "    * Choose Parkinson's Disease relavent gene\n",
    "    * Load transciptomics counts data into an anndata object\n",
    "        * subset cells to subset samples from metadata\n",
    "    * visualize specific gene expression\n",
    "\n",
    "## choose your favorite genes\n",
    "Now that we have a \n",
    "1. check that your gene of interest is in the current features\n",
    "2. color the umap by the expression level of your gene.\n",
    "\n",
    "\n",
    "We'll use the soon-to-be-published table from GP2 as a reference set of putative PD variable genes.\n",
    "\n",
    "\n",
    "\n",
    "### Load Parkinson's reference genes."
   ]
  },
  {
   "cell_type": "code",
   "execution_count": null,
   "id": "63b420a1",
   "metadata": {},
   "outputs": [
    {
     "name": "stdout",
     "output_type": "stream",
     "text": [
      "time: 6.36 ms (started: 2025-02-27 10:07:59 +00:00)\n"
     ]
    }
   ],
   "source": [
    "ref_gene_filename = WORKSHOP_PATH / 'GP2 European GWAS Manuscript Tables - Table 4.csv'\n",
    "\n",
    "GP2_PD_genes = pd.read_csv(ref_gene_filename)\n"
   ]
  },
  {
   "cell_type": "markdown",
   "id": "fc7aba54",
   "metadata": {},
   "source": [
    "### Load full frontal cortex `AnnData` object for further analysis \n",
    "\n",
    "If you calculated these yourself in [Part 2 - 02_dataset_composition.ipynb](./02_dataset_composition.ipynb) load if from where you saved it.(e.g. 'local_data_path'). If you didn't do that, and you didn't already copy it to your 'local_data_path', it is also made it available in the `WORKSHOP_PATH`."
   ]
  },
  {
   "cell_type": "code",
   "execution_count": null,
   "id": "14114e48",
   "metadata": {},
   "outputs": [
    {
     "name": "stdout",
     "output_type": "stream",
     "text": [
      "time: 6.66 s (started: 2025-02-27 10:08:02 +00:00)\n"
     ]
    }
   ],
   "source": [
    "full_frontal_samples_filename = local_data_path / f\"asap-{dataset_team}.full_frontal_ctx_case_control_samples.h5ad\"\n",
    "\n",
    "frontal_full_ad = sc.read_h5ad(full_frontal_samples_filename)"
   ]
  },
  {
   "cell_type": "markdown",
   "id": "1adbfb86",
   "metadata": {},
   "source": [
    "Check that we have the genes of interest."
   ]
  },
  {
   "cell_type": "code",
   "execution_count": 13,
   "id": "aedeb7d0",
   "metadata": {},
   "outputs": [
    {
     "name": "stdout",
     "output_type": "stream",
     "text": [
      "time: 6.73 ms (started: 2025-02-27 10:08:18 +00:00)\n"
     ]
    }
   ],
   "source": [
    "pd_genes = set(GP2_PD_genes[\"SYMBOL\"]).intersection(\n",
    "    set(frontal_full_ad.var_names)\n",
    ")"
   ]
  },
  {
   "cell_type": "code",
   "execution_count": 15,
   "id": "dad3f709",
   "metadata": {},
   "outputs": [
    {
     "data": {
      "text/plain": [
       "{'ADAM15',\n",
       " 'ADD1',\n",
       " 'AKT3',\n",
       " 'BAG3',\n",
       " 'BIRC6',\n",
       " 'CAB39L',\n",
       " 'CPLX1',\n",
       " 'CTSB',\n",
       " 'DLG2',\n",
       " 'DLG4',\n",
       " 'FDFT1',\n",
       " 'FYN',\n",
       " 'GAK',\n",
       " 'GCH1',\n",
       " 'ITGA2B',\n",
       " 'LRRK2',\n",
       " 'MAPT',\n",
       " 'MED12L',\n",
       " 'NCOR1',\n",
       " 'P2RY12',\n",
       " 'PCGF3',\n",
       " 'PIK3CA',\n",
       " 'RIT2',\n",
       " 'SH3GL2',\n",
       " 'SHC1',\n",
       " 'SLC2A13',\n",
       " 'SNCA',\n",
       " 'STK39',\n",
       " 'TMEM163',\n",
       " 'TSC22D4',\n",
       " 'UCHL1',\n",
       " 'XPO1'}"
      ]
     },
     "execution_count": 15,
     "metadata": {},
     "output_type": "execute_result"
    },
    {
     "name": "stdout",
     "output_type": "stream",
     "text": [
      "time: 2.78 ms (started: 2025-02-27 10:08:25 +00:00)\n"
     ]
    }
   ],
   "source": [
    "pd_genes"
   ]
  },
  {
   "cell_type": "markdown",
   "id": "4882481b",
   "metadata": {},
   "source": [
    "### Choose 'query_gene' and visualize\n",
    "\n",
    "As an example below we'll query \"TSC22D4\".  What gene are you interested in?"
   ]
  },
  {
   "cell_type": "code",
   "execution_count": 16,
   "id": "460803a6-1cf0-4987-8925-b757dc7c246b",
   "metadata": {
    "tags": []
   },
   "outputs": [
    {
     "name": "stderr",
     "output_type": "stream",
     "text": [
      "/tmp/ipykernel_4739/3696347351.py:12: FutureWarning: The default of observed=False is deprecated and will be changed to True in a future version of pandas. Pass observed=False to retain current behavior or observed=True to adopt the future default and silence this warning.\n",
      "  cell_metadata_df.groupby(\"cell_type\").describe()\n"
     ]
    },
    {
     "data": {
      "text/html": [
       "<div>\n",
       "<style scoped>\n",
       "    .dataframe tbody tr th:only-of-type {\n",
       "        vertical-align: middle;\n",
       "    }\n",
       "\n",
       "    .dataframe tbody tr th {\n",
       "        vertical-align: top;\n",
       "    }\n",
       "\n",
       "    .dataframe thead tr th {\n",
       "        text-align: left;\n",
       "    }\n",
       "\n",
       "    .dataframe thead tr:last-of-type th {\n",
       "        text-align: right;\n",
       "    }\n",
       "</style>\n",
       "<table border=\"1\" class=\"dataframe\">\n",
       "  <thead>\n",
       "    <tr>\n",
       "      <th></th>\n",
       "      <th colspan=\"8\" halign=\"left\">TSC22D4</th>\n",
       "    </tr>\n",
       "    <tr>\n",
       "      <th></th>\n",
       "      <th>count</th>\n",
       "      <th>mean</th>\n",
       "      <th>std</th>\n",
       "      <th>min</th>\n",
       "      <th>25%</th>\n",
       "      <th>50%</th>\n",
       "      <th>75%</th>\n",
       "      <th>max</th>\n",
       "    </tr>\n",
       "    <tr>\n",
       "      <th>cell_type</th>\n",
       "      <th></th>\n",
       "      <th></th>\n",
       "      <th></th>\n",
       "      <th></th>\n",
       "      <th></th>\n",
       "      <th></th>\n",
       "      <th></th>\n",
       "      <th></th>\n",
       "    </tr>\n",
       "  </thead>\n",
       "  <tbody>\n",
       "    <tr>\n",
       "      <th>Astro</th>\n",
       "      <td>22347.0</td>\n",
       "      <td>0.804135</td>\n",
       "      <td>1.142683</td>\n",
       "      <td>0.0</td>\n",
       "      <td>0.0</td>\n",
       "      <td>0.0</td>\n",
       "      <td>1.0</td>\n",
       "      <td>13.0</td>\n",
       "    </tr>\n",
       "    <tr>\n",
       "      <th>ExN</th>\n",
       "      <td>126083.0</td>\n",
       "      <td>0.050491</td>\n",
       "      <td>0.254753</td>\n",
       "      <td>0.0</td>\n",
       "      <td>0.0</td>\n",
       "      <td>0.0</td>\n",
       "      <td>0.0</td>\n",
       "      <td>9.0</td>\n",
       "    </tr>\n",
       "    <tr>\n",
       "      <th>InN</th>\n",
       "      <td>726.0</td>\n",
       "      <td>0.088154</td>\n",
       "      <td>0.345130</td>\n",
       "      <td>0.0</td>\n",
       "      <td>0.0</td>\n",
       "      <td>0.0</td>\n",
       "      <td>0.0</td>\n",
       "      <td>3.0</td>\n",
       "    </tr>\n",
       "    <tr>\n",
       "      <th>MG</th>\n",
       "      <td>8090.0</td>\n",
       "      <td>0.143263</td>\n",
       "      <td>0.413781</td>\n",
       "      <td>0.0</td>\n",
       "      <td>0.0</td>\n",
       "      <td>0.0</td>\n",
       "      <td>0.0</td>\n",
       "      <td>5.0</td>\n",
       "    </tr>\n",
       "    <tr>\n",
       "      <th>OPC</th>\n",
       "      <td>76552.0</td>\n",
       "      <td>0.133961</td>\n",
       "      <td>0.566849</td>\n",
       "      <td>0.0</td>\n",
       "      <td>0.0</td>\n",
       "      <td>0.0</td>\n",
       "      <td>0.0</td>\n",
       "      <td>16.0</td>\n",
       "    </tr>\n",
       "    <tr>\n",
       "      <th>Oligo</th>\n",
       "      <td>55627.0</td>\n",
       "      <td>0.972028</td>\n",
       "      <td>1.449174</td>\n",
       "      <td>0.0</td>\n",
       "      <td>0.0</td>\n",
       "      <td>0.0</td>\n",
       "      <td>1.0</td>\n",
       "      <td>18.0</td>\n",
       "    </tr>\n",
       "    <tr>\n",
       "      <th>VC</th>\n",
       "      <td>2362.0</td>\n",
       "      <td>0.230737</td>\n",
       "      <td>0.657685</td>\n",
       "      <td>0.0</td>\n",
       "      <td>0.0</td>\n",
       "      <td>0.0</td>\n",
       "      <td>0.0</td>\n",
       "      <td>8.0</td>\n",
       "    </tr>\n",
       "  </tbody>\n",
       "</table>\n",
       "</div>"
      ],
      "text/plain": [
       "            TSC22D4                                              \n",
       "              count      mean       std  min  25%  50%  75%   max\n",
       "cell_type                                                        \n",
       "Astro       22347.0  0.804135  1.142683  0.0  0.0  0.0  1.0  13.0\n",
       "ExN        126083.0  0.050491  0.254753  0.0  0.0  0.0  0.0   9.0\n",
       "InN           726.0  0.088154  0.345130  0.0  0.0  0.0  0.0   3.0\n",
       "MG           8090.0  0.143263  0.413781  0.0  0.0  0.0  0.0   5.0\n",
       "OPC         76552.0  0.133961  0.566849  0.0  0.0  0.0  0.0  16.0\n",
       "Oligo       55627.0  0.972028  1.449174  0.0  0.0  0.0  1.0  18.0\n",
       "VC           2362.0  0.230737  0.657685  0.0  0.0  0.0  0.0   8.0"
      ]
     },
     "execution_count": 16,
     "metadata": {},
     "output_type": "execute_result"
    },
    {
     "name": "stdout",
     "output_type": "stream",
     "text": [
      "time: 1.03 s (started: 2025-02-27 10:08:25 +00:00)\n"
     ]
    }
   ],
   "source": [
    "query_gene = \"CTSB\"\n",
    "query_gene = \"TSC22D4\"\n",
    "\n",
    "\n",
    "CTSB_expr = frontal_full_ad[:, query_gene].X.toarray()\n",
    "cell_metadata_df = pd.DataFrame(\n",
    "    CTSB_expr, columns=[query_gene], index=frontal_full_ad.obs.index\n",
    ")\n",
    "\n",
    "cell_metadata_df.loc[:, \"cell_type\"] = frontal_full_ad.obs[\"cell_type\"]\n",
    "\n",
    "cell_metadata_df.groupby(\"cell_type\").describe()"
   ]
  },
  {
   "cell_type": "code",
   "execution_count": 17,
   "id": "9c38f4e6",
   "metadata": {
    "scrolled": true
   },
   "outputs": [
    {
     "data": {
      "image/png": "[encoded data removed]",
      "text/plain": [
       "<Figure size 640x480 with 2 Axes>"
      ]
     },
     "metadata": {},
     "output_type": "display_data"
    },
    {
     "name": "stdout",
     "output_type": "stream",
     "text": [
      "time: 2.14 s (started: 2025-02-27 10:08:26 +00:00)\n"
     ]
    }
   ],
   "source": [
    "\n",
    "\n",
    "sc.pl.embedding(\n",
    "    frontal_full_ad,\n",
    "    basis=\"umap\",\n",
    "    color=[query_gene],\n",
    "    cmap=sns.cubehelix_palette(dark=0, light=0.9, as_cmap=True),\n",
    "    title=f\"{query_gene} gexp\",\n",
    ")"
   ]
  },
  {
   "cell_type": "markdown",
   "id": "75d5ea84",
   "metadata": {},
   "source": [
    "Now, what else would you like to find out from this dataset?\n",
    "\n",
    "Some ideas:\n",
    "- calculate the relative expression\n",
    "- ?\n",
    "- ?\n",
    "- ?"
   ]
  },
  {
   "cell_type": "markdown",
   "id": "90e528da",
   "metadata": {},
   "source": [
    "-----------------\n",
    "# Next:\n",
    "\n",
    "This is the main _workshop_ notebook.  If you've exhausted what you might like to do with this dataset, continue with a differential expression analysis:\n",
    "\n",
    "- Part 4 - Differential Expression (DE) Analysis [04_DE_analysis.ipynb](./04_DE_analysis.ipynb)\n"
   ]
  },
  {
   "cell_type": "markdown",
   "id": "6a2ff285-4fda-4749-97b5-26a07c537c31",
   "metadata": {},
   "source": [
    "--------------------\n",
    "# Provenance\n",
    "Generate information about this notebook environment and the packages installed."
   ]
  },
  {
   "cell_type": "code",
   "execution_count": 19,
   "id": "64005efc-83be-467d-8673-62fa6fcbdca9",
   "metadata": {
    "tags": []
   },
   "outputs": [
    {
     "name": "stdout",
     "output_type": "stream",
     "text": [
      "Thu Feb 27 10:08:53 AM UTC 2025\n",
      "time: 139 ms (started: 2025-02-27 10:08:53 +00:00)\n"
     ]
    }
   ],
   "source": [
    "!date"
   ]
  },
  {
   "cell_type": "markdown",
   "id": "355aaf0f-c1ce-42f6-ba39-e6be358e8df0",
   "metadata": {},
   "source": [
    "Conda and pip installed packages:"
   ]
  },
  {
   "cell_type": "code",
   "execution_count": 26,
   "id": "be17a059-7f0d-4348-b89d-102b89c06eba",
   "metadata": {
    "tags": []
   },
   "outputs": [
    {
     "name": "stdout",
     "output_type": "stream",
     "text": [
      "absl-py==2.1.0\n",
      "anndata==0.11.3\n",
      "annotated-types==0.7.0\n",
      "anyio==4.8.0\n",
      "argon2-cffi==23.1.0\n",
      "argon2-cffi-bindings==21.2.0\n",
      "array_api_compat==1.10.0\n",
      "arrow==1.3.0\n",
      "asttokens==3.0.0\n",
      "astunparse==1.6.3\n",
      "async-lru==2.0.4\n",
      "attrs==25.1.0\n",
      "awscli==1.22.34\n",
      "babel==2.16.0\n",
      "beautifulsoup4==4.12.3\n",
      "bleach==6.2.0\n",
      "blinker==1.4\n",
      "botocore==1.23.34\n",
      "cachetools==5.5.1\n",
      "certifi==2020.6.20\n",
      "cffi==1.17.1\n",
      "chardet==4.0.0\n",
      "charset-normalizer==3.4.1\n",
      "colorama==0.4.4\n",
      "comm==0.2.2\n",
      "contourpy==1.3.1\n",
      "cryptography==3.4.8\n",
      "cycler==0.12.1\n",
      "Cython==3.0.11\n",
      "dbus-python==1.2.18\n",
      "debugpy==1.8.12\n",
      "decorator==5.1.1\n",
      "defusedxml==0.7.1\n",
      "distro==1.7.0\n",
      "docstring_parser==0.16\n",
      "docutils==0.17.1\n",
      "exceptiongroup==1.2.2\n",
      "executing==2.2.0\n",
      "fastjsonschema==2.21.1\n",
      "filelock==3.17.0\n",
      "flatbuffers==25.1.24\n",
      "fonttools==4.55.8\n",
      "fqdn==1.5.1\n",
      "gast==0.6.0\n",
      "gitdb==4.0.12\n",
      "GitPython==3.1.44\n",
      "google-api-core==2.24.1\n",
      "google-auth==2.38.0\n",
      "google-auth-oauthlib==1.0.0\n",
      "google-cloud-aiplatform==1.72.0\n",
      "google-cloud-artifact-registry==1.13.1\n",
      "google-cloud-bigquery==3.25.0\n",
      "google-cloud-bigquery-connection==1.16.1\n",
      "google-cloud-bigquery-storage==2.27.0\n",
      "google-cloud-core==2.4.1\n",
      "google-cloud-resource-manager==1.14.0\n",
      "google-cloud-storage==2.14.0\n",
      "google-crc32c==1.6.0\n",
      "google-pasta==0.2.0\n",
      "google-resumable-media==2.7.2\n",
      "googleapis-common-protos==1.66.0\n",
      "grpc-google-iam-v1==0.14.0\n",
      "grpcio==1.70.0\n",
      "grpcio-status==1.70.0\n",
      "h11==0.14.0\n",
      "h5py==3.12.1\n",
      "httpcore==1.0.7\n",
      "httplib2==0.20.2\n",
      "httpx==0.28.1\n",
      "idna==3.3\n",
      "importlib-metadata==4.6.4\n",
      "ipykernel==6.29.5\n",
      "ipython==8.32.0\n",
      "ipython-autotime==0.3.2\n",
      "ipywidgets==8.1.5\n",
      "isoduration==20.11.0\n",
      "jedi==0.19.2\n",
      "jeepney==0.7.1\n",
      "Jinja2==3.1.5\n",
      "jmespath==0.10.0\n",
      "joblib==1.4.2\n",
      "json5==0.10.0\n",
      "jsonpointer==3.0.0\n",
      "jsonschema==4.23.0\n",
      "jsonschema-specifications==2024.10.1\n",
      "jupyter-events==0.11.0\n",
      "jupyter-lsp==2.2.5\n",
      "jupyter-server-mathjax==0.2.6\n",
      "jupyter_client==8.6.3\n",
      "jupyter_core==5.7.2\n",
      "jupyter_server==2.15.0\n",
      "jupyter_server_terminals==0.5.3\n",
      "jupyterlab==4.3.4\n",
      "jupyterlab_git==0.50.2\n",
      "jupyterlab_pygments==0.3.0\n",
      "jupyterlab_server==2.27.3\n",
      "jupyterlab_widgets==3.0.13\n",
      "jupytext==1.16.4\n",
      "keras==2.14.0\n",
      "keyring==23.5.0\n",
      "kiwisolver==1.4.8\n",
      "launchpadlib==1.10.16\n",
      "lazr.restfulclient==0.14.4\n",
      "lazr.uri==1.0.6\n",
      "legacy-api-wrap==1.4.1\n",
      "libclang==18.1.1\n",
      "llvmlite==0.44.0\n",
      "Markdown==3.7\n",
      "markdown-it-py==3.0.0\n",
      "MarkupSafe==3.0.2\n",
      "matplotlib==3.9.0\n",
      "matplotlib-inline==0.1.7\n",
      "mdit-py-plugins==0.4.2\n",
      "mdurl==0.1.2\n",
      "mistune==3.1.1\n",
      "mizani==0.13.1\n",
      "ml-dtypes==0.2.0\n",
      "more-itertools==8.10.0\n",
      "mpmath==1.3.0\n",
      "natsort==8.4.0\n",
      "nbclient==0.10.2\n",
      "nbconvert==7.16.6\n",
      "nbdime==4.0.2\n",
      "nbformat==5.10.4\n",
      "nest-asyncio==1.6.0\n",
      "networkx==3.4.2\n",
      "notebook_shim==0.2.4\n",
      "numba==0.61.0\n",
      "numpy==1.26.0\n",
      "oauthlib==3.2.0\n",
      "opt_einsum==3.4.0\n",
      "overrides==7.7.0\n",
      "packaging==24.2\n",
      "pandas==2.2.1\n",
      "pandocfilters==1.5.1\n",
      "parso==0.8.4\n",
      "patsy==1.0.1\n",
      "pexpect==4.9.0\n",
      "pillow==11.1.0\n",
      "platformdirs==4.3.6\n",
      "plotnine==0.14.5\n",
      "prometheus_client==0.21.1\n",
      "prompt_toolkit==3.0.50\n",
      "proto-plus==1.26.0\n",
      "protobuf==4.25.6\n",
      "psutil==6.1.1\n",
      "ptyprocess==0.7.0\n",
      "pure_eval==0.2.3\n",
      "pyasn1==0.4.8\n",
      "pyasn1_modules==0.4.1\n",
      "pycparser==2.22\n",
      "pydantic==2.10.6\n",
      "pydantic_core==2.27.2\n",
      "Pygments==2.18.0\n",
      "PyGObject==3.42.1\n",
      "PyJWT==2.3.0\n",
      "pynndescent==0.5.13\n",
      "pyparsing==2.4.7\n",
      "python-apt==2.4.0+ubuntu4\n",
      "python-dateutil==2.9.0.post0\n",
      "python-json-logger==3.2.1\n",
      "pytz==2025.1\n",
      "PyYAML==5.4.1\n",
      "pyzmq==26.2.1\n",
      "referencing==0.36.2\n",
      "requests==2.32.3\n",
      "requests-oauthlib==2.0.0\n",
      "rfc3339-validator==0.1.4\n",
      "rfc3986-validator==0.1.1\n",
      "roman==3.3\n",
      "rpds-py==0.22.3\n",
      "rsa==4.8\n",
      "s3transfer==0.5.0\n",
      "scanpy==1.11.0\n",
      "scikit-learn==1.5.2\n",
      "scipy==1.15.2\n",
      "seaborn==0.13.2\n",
      "SecretStorage==3.3.1\n",
      "Send2Trash==1.8.3\n",
      "session-info2==0.1.2\n",
      "shapely==2.0.7\n",
      "six==1.16.0\n",
      "smmap==5.0.2\n",
      "sniffio==1.3.1\n",
      "soupsieve==2.6\n",
      "stack-data==0.6.3\n",
      "statsmodels==0.14.4\n",
      "sympy==1.13.3\n",
      "tensorboard==2.14.1\n",
      "tensorboard-data-server==0.7.2\n",
      "tensorflow==2.14.0\n",
      "tensorflow-estimator==2.14.0\n",
      "tensorflow-io-gcs-filesystem==0.37.1\n",
      "termcolor==2.5.0\n",
      "terminado==0.18.1\n",
      "threadpoolctl==3.5.0\n",
      "tinycss2==1.4.0\n",
      "tomli==2.2.1\n",
      "torch==2.0.1+cu118\n",
      "torchaudio==2.0.2+cu118\n",
      "torchvision==0.15.2+cu118\n",
      "tornado==6.4.2\n",
      "tqdm==4.67.1\n",
      "traitlets==5.14.3\n",
      "triton==3.1.0\n",
      "types-python-dateutil==2.9.0.20241206\n",
      "typing_extensions==4.12.2\n",
      "tzdata==2025.1\n",
      "umap-learn==0.5.7\n",
      "uri-template==1.3.0\n",
      "urllib3==1.26.5\n",
      "wadllib==1.3.6\n",
      "wcwidth==0.2.13\n",
      "webcolors==24.11.1\n",
      "webencodings==0.5.1\n",
      "websocket-client==1.8.0\n",
      "Werkzeug==3.1.3\n",
      "widgetsnbextension==4.0.13\n",
      "wrapt==1.14.1\n",
      "zipp==1.0.0\n",
      "time: 660 ms (started: 2025-02-27 10:11:23 +00:00)\n"
     ]
    }
   ],
   "source": [
    "!pip freeze"
   ]
  },
  {
   "cell_type": "markdown",
   "id": "85446495-4def-4f49-ad33-ee5ad56d7986",
   "metadata": {},
   "source": [
    "JupyterLab extensions:"
   ]
  },
  {
   "cell_type": "code",
   "execution_count": 21,
   "id": "714ce13f-06ee-462d-8357-acd1970de3bf",
   "metadata": {
    "tags": []
   },
   "outputs": [
    {
     "name": "stdout",
     "output_type": "stream",
     "text": [
      "`sys_prefix` level settings are read-only, using `user` level for migration to `lockedExtensions`\n",
      "JupyterLab v4.3.4\n",
      "/home/jupyter/.local/share/jupyter/labextensions\n",
      "        jupyterlab_pygments v0.3.0 \u001b[32menabled\u001b[0m \u001b[32mOK\u001b[0m (python, jupyterlab_pygments)\n",
      "        jupyterlab-jupytext v1.4.3 \u001b[32menabled\u001b[0m \u001b[32mOK\u001b[0m (python, jupytext)\n",
      "        nbdime-jupyterlab v3.0.2 \u001b[32menabled\u001b[0m \u001b[32mOK\u001b[0m\n",
      "        @jupyterlab/git v0.50.2 \u001b[32menabled\u001b[0m \u001b[32mOK\u001b[0m (python, jupyterlab-git)\n",
      "        @jupyter-widgets/jupyterlab-manager v5.0.13 \u001b[32menabled\u001b[0m \u001b[32mOK\u001b[0m (python, jupyterlab_widgets)\n",
      "\n",
      "time: 2.73 s (started: 2025-02-27 10:08:53 +00:00)\n"
     ]
    }
   ],
   "source": [
    "!jupyter labextension list"
   ]
  },
  {
   "cell_type": "markdown",
   "id": "8066c8d0-e3c5-4224-88a3-e42e9e31e93a",
   "metadata": {},
   "source": [
    "Number of cores:"
   ]
  },
  {
   "cell_type": "code",
   "execution_count": 22,
   "id": "cde2e747-6967-40cc-b38c-36ca1b45b121",
   "metadata": {
    "tags": []
   },
   "outputs": [
    {
     "name": "stdout",
     "output_type": "stream",
     "text": [
      "16\n",
      "time: 135 ms (started: 2025-02-27 10:08:56 +00:00)\n"
     ]
    }
   ],
   "source": [
    "!grep ^processor /proc/cpuinfo | wc -l"
   ]
  },
  {
   "cell_type": "markdown",
   "id": "abde8571-0073-48f6-9210-1d653695a0cf",
   "metadata": {},
   "source": [
    "Memory:"
   ]
  },
  {
   "cell_type": "code",
   "execution_count": 23,
   "id": "b78bb0e2-525a-40ac-b313-28c4e32bcda6",
   "metadata": {
    "tags": []
   },
   "outputs": [
    {
     "name": "stdout",
     "output_type": "stream",
     "text": [
      "MemTotal:       107131888 kB\n",
      "time: 135 ms (started: 2025-02-27 10:09:00 +00:00)\n"
     ]
    }
   ],
   "source": [
    "!grep \"^MemTotal:\" /proc/meminfo"
   ]
  },
  {
   "cell_type": "code",
   "execution_count": null,
   "id": "0e8d4f8b-b64a-41d3-8b95-202c5386e0e2",
   "metadata": {},
   "outputs": [],
   "source": []
  }
 ],
 "metadata": {
  "kernelspec": {
   "display_name": "Python 3",
   "language": "python",
   "name": "python3"
  },
  "language_info": {
   "codemirror_mode": {
    "name": "ipython",
    "version": 3
   },
   "file_extension": ".py",
   "mimetype": "text/x-python",
   "name": "python",
   "nbconvert_exporter": "python",
   "pygments_lexer": "ipython3",
   "version": "3.10.12"
  }
 },
 "nbformat": 4,
 "nbformat_minor": 5
}
