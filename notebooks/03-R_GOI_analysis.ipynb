{
 "cells": [
  {
   "cell_type": "markdown",
   "id": "c4bcbaaa",
   "metadata": {},
   "source": [
    "# Browse and Explore ASAP CRN Curated Data (python)\n",
    "\n",
    "# Part 3: Gene of interest analysis (__Workshop__)\n",
    "\n",
    "## Overview\n",
    "\n",
    "This notebook shows how to load ASAP CRN Cloud data for the harmonized cohort of scRNAseq datasets.  (All contrubted datasets in this collection are technically single-_nucleus_ samples.)   \n",
    "\n",
    "Part 1: ASAP CRN Cloud __Basics__\n",
    "* Browse ASAP CRN curated datasets and collections on a cloud environment\n",
    "* Define paths to dataset \n",
    "    * cell-wise data metrics (_cell_ metadata)\n",
    "    * gene expression data (anndata objects)\n",
    "    * _dataset_ metadata\n",
    "* Load _cell_-metadata and visualize\n",
    "    * basic QC visualizations\n",
    "    * UMAP visualizations\n",
    "* Load _processed_ `AnnData` object \n",
    "    * access gene expression \n",
    "    * UMAP visualizations\n",
    "    * Load _dataset_ metadata\n",
    "        * merge _dataset_ metadata with _cell_ metadata\n",
    "        * create Case-Control and Brain Region sub-sets\n",
    "\n",
    "\n",
    "Part 2: Create subset `AnnData` artifacts (__Intermediate__)\n",
    "* Load unfiltered dataset `AnnData` object\n",
    "* combine with _processed_ artifacts (`adata.obs`) \n",
    "* Subset to a single brain region and Case-Contol group (from _dataset_ metadata)\n",
    "    * save full gene expression `anndata` for subset with full metadata annotation (_dataset_ and _cell_-level)\n",
    "\n",
    "Part 3: Gene of interest analysis (__Workshop__)\n",
    "* Choose Parkinson's Disease relavent gene\n",
    "* Load transciptomics counts data into an anndata object\n",
    "    * subset cells to subset samples from metadata\n",
    "* visualize specific gene expression\n",
    "\n",
    "    \n",
    "Part 4: Differential Expression (DE) Analysis (__Advanced__)\n",
    "* Differential expression analysis,\n",
    "    * psuedobulk over 'sample' and 'cell_type' \n",
    "    * logistic regression CASE vs. CONTROL\n",
    "    * meta analysis to verify consistency across Datasets / Teams\n",
    "* Differential expression analysis meta-analysis\n",
    "    * psuedobulk over 'sample' and 'cell_type' \n",
    "    * logistic regression CASE vs. CONTROL per source dataset\n",
    "    * meta analysis to verify consistency across Datasets / Teams\n",
    "\n",
    "\n",
    "------------------------------\n",
    ">> NOTES\n",
    ">>   need to test that this runs reasonably fast on a generic VM\n",
    ">>   need to develop an equivalent R version"
   ]
  },
  {
   "cell_type": "markdown",
   "id": "30441569",
   "metadata": {},
   "source": [
    "## Imports"
   ]
  },
  {
   "cell_type": "markdown",
   "id": "7fc94b1b",
   "metadata": {},
   "source": [
    "###  ASAP CRN data paths\n",
    "First, let's build the paths to our data. "
   ]
  },
  {
   "cell_type": "markdown",
   "id": "7a13f5eb",
   "metadata": {},
   "source": [
    "We'll focus in on the datasets processed with our *PMDBS scRNAseq* workflow.  Specifically the _cohort_ dataset: `asap-cohort-pmdbs-sc-rnaseq`.  This dataset includes samples from 5 Contributing datasets which have been processesed and integrated.  The paths include the following parts.\n",
    "\n",
    "- `workflow` designates the workflow which performs the aggregation and integration.  In this case the [*PMDBS scRNAseq* workflow](https://github.com/ASAP-CRN/pmdbs-sc-rnaseq-wf)\n",
    "- `dataset_team` designates the contributing team for the dataset.  In this case _cohort_ designates that it is made from multiple individual contributed datasets.\n",
    "- `source` designates the _source_ of the samples.  In this case Post-mortem derived Brain samples\n",
    "- `dataset_type` designates the \n",
    "- `bucket_name` designates the datasets gcp bucket\n",
    "- `dataset_name` designates the unique designation for each dataset or collection"
   ]
  },
  {
   "cell_type": "markdown",
   "id": "46f8457c",
   "metadata": {},
   "source": [
    "#### Cohort Analysis Path\n",
    "\n",
    "Now that we've defined the path to our cohort dataset, lets list the curated files for the `cohort_analysis`.   "
   ]
  },
  {
   "cell_type": "markdown",
   "id": "54d99255",
   "metadata": {},
   "source": [
    "#### Dataset Metadata Path\n",
    "\n",
    "The dataset metadata can be found in the `release_resources`.  Note that the metadata are organized by the _short_ `dataset_name` rather than `bucket_name`.  \n",
    "\n"
   ]
  },
  {
   "cell_type": "markdown",
   "id": "14d4925d",
   "metadata": {},
   "source": [
    "#### Workshop/Notebook Artifact Path\n",
    "\n",
    "This is the path to where the artifacts we've created in these notebooks can be found in case you want to skip ahead.  Particularly for the workshop."
   ]
  },
  {
   "cell_type": "markdown",
   "id": "2c1badf1",
   "metadata": {},
   "source": [
    "#### Local Data Path\n",
    "Lets also define a path for copying our data files and exporting intermediate analysis artifacts to your workspace.  In this example we'll make a \"workshop_files\" in the \"ws_files\" which are persistent in our Verily Workbench Workspace. "
   ]
  },
  {
   "cell_type": "markdown",
   "id": "681350a8",
   "metadata": {},
   "source": [
    "-----------------\n",
    "#  Part 3: Gene of interest analysis (__Workshop__)\n",
    "* Gene of interest analysis\n",
    "    * Choose Parkinson's Disease relavent gene\n",
    "    * Load transciptomics counts data into an anndata object\n",
    "        * subset cells to subset samples from metadata\n",
    "    * visualize specific gene expression\n",
    "\n",
    "## choose your favorite genes\n",
    "Now that we have a \n",
    "1. check that your gene of interest is in the current features\n",
    "2. color the umap by the expression level of your gene.\n",
    "\n",
    "\n",
    "We'll use the soon-to-be-published table from GP2 as a reference set of putative PD variable genes.\n",
    "\n",
    "\n",
    "\n",
    "### Load Parkinson's reference genes."
   ]
  },
  {
   "cell_type": "markdown",
   "id": "1b752895",
   "metadata": {},
   "source": [
    "### Load full frontal cortex `AnnData` object for further analysis \n",
    "\n",
    "If you calculated these yourself in [Part 2](add link to notebook) load if from where you saved it. (e.g. 'local_data_path').  It is also made it available in the `WORKSHOP_PATH`.\n"
   ]
  },
  {
   "cell_type": "markdown",
   "id": "c9fcc1ef",
   "metadata": {},
   "source": [
    "Check that we have the genes of interest."
   ]
  },
  {
   "cell_type": "markdown",
   "id": "47d122b1",
   "metadata": {},
   "source": [
    "### Choose 'query_gene' and visualize\n",
    "\n",
    "As an example below we'll query \"TSC22D4\".  What gene are you interested in?"
   ]
  },
  {
   "cell_type": "markdown",
   "id": "dfa6a9db",
   "metadata": {},
   "source": [
    "--------------------\n",
    "# Provenance\n",
    "Generate information about this notebook environment and the packages installed."
   ]
  },
  {
   "cell_type": "markdown",
   "id": "69f46f3b",
   "metadata": {},
   "source": [
    "Conda and pip installed packages:"
   ]
  },
  {
   "cell_type": "markdown",
   "id": "c02c7ced",
   "metadata": {},
   "source": [
    "JupyterLab extensions:"
   ]
  },
  {
   "cell_type": "markdown",
   "id": "d2d3e46b",
   "metadata": {},
   "source": [
    "Number of cores:"
   ]
  },
  {
   "cell_type": "markdown",
   "id": "0ddbe8ef",
   "metadata": {},
   "source": [
    "Memory:"
   ]
  },
  {
   "cell_type": "code",
   "execution_count": null,
   "id": "e6cd0386",
   "metadata": {},
   "outputs": [],
   "source": [
    "# R doesn't need numpy, use base functions\n",
    "library(dplyr)\n",
    "library(data.table)\n",
    "\n",
    "# Use pathlib for file path manipulation\n",
    "library(fs) # File system operations \n",
    "\n",
    "\n",
    "# matplotlib and seaborn a pythonic alternative to plotnine\n",
    "try:\n",
    "    library(ggplot2)\n",
    "    # Use ggplot2 instead of matplotlib\n",
    "except ImportError as e:\n",
    "    print(\"Error -> \", e)\n",
    "    print(\"Installing seaborn or matplotlib\")\n",
    "    # Install manually: install.packages() matplotlib seaborn\n",
    "    library(ggplot2)\n",
    "    # Use ggplot2 instead of matplotlib\n",
    "\n",
    "\n",
    "try:\n",
    "    # scanpy has no direct R equivalent, consider Seurat\n",
    "except ImportError as e:\n",
    "    print(\"Error -> \", e)\n",
    "    print(\"Installing scanpy\")\n",
    "    # Install manually: install.packages() scanpy\n",
    "    # scanpy has no direct R equivalent, consider Seurat\n",
    "\n",
    "try:\n",
    "    %load_ext autotime\n",
    "except:\n",
    "    # Install manually: install.packages() ipython-autotime\n",
    "    %load_ext autotime\n",
    "\n",
    "# Always show all columns in a Pandas DataFrame\n",
    "options(dplyr.width = Inf)"
   ]
  },
  {
   "cell_type": "code",
   "execution_count": null,
   "id": "d7bb5f8d",
   "metadata": {},
   "outputs": [],
   "source": [
    "# Workspace Path\n",
    "HOME_PATH = path_home()\n",
    "WS_PATH =  HOME_PATH / 'workspace'\n",
    "if not WS_PATH.exists():\n",
    "    print(f\"{WS_PATH} doesn't exist. We need to remount our resources\")\n",
    "    !terra resource mount    "
   ]
  },
  {
   "cell_type": "code",
   "execution_count": null,
   "id": "57629c17",
   "metadata": {},
   "outputs": [],
   "source": [
    "DATASETS_PATH = WS_PATH / \"01_PMDBS_scRNAseq_Datasets\"\n",
    "workflow = \"pmdbs_sc_rnaseq\"\n",
    "dataset_team = \"cohort\"\n",
    "dataset_source = \"pmdbs\"\n",
    "dataset_type = \"sc-rnaseq\"\n",
    "bucket_name = f\"asap-curated-{dataset_team}-{dataset_source}-{dataset_type}\"\n",
    "dataset_name = f\"asap-{dataset_team}-{dataset_source}-{dataset_type}\"\n",
    "dataset_path = DATASETS_PATH / bucket_name / workflow"
   ]
  },
  {
   "cell_type": "code",
   "execution_count": null,
   "id": "10e2c061",
   "metadata": {},
   "outputs": [],
   "source": [
    "cohort_analysis_path = dataset_path / \"cohort_analysis\""
   ]
  },
  {
   "cell_type": "code",
   "execution_count": null,
   "id": "e6e28adf",
   "metadata": {},
   "outputs": [],
   "source": [
    "ds_metadata_path = WS_PATH / 'release_resources/asap-crn-cloud-release-resources' / dataset_name / \"metadata\"\n",
    "system(\"ls\") {ds_metadata_path} # pythonic way: #[f.name for f in ds_metadata_path.glob(\"**/*.csv\") if f.is_file()]\n"
   ]
  },
  {
   "cell_type": "code",
   "execution_count": null,
   "id": "024fdb47",
   "metadata": {},
   "outputs": [],
   "source": [
    "WORKSHOP_PATH = WS_PATH / 'release_resources/asap-crn-cloud-release-resources/release-artifacts/sample_notebooks/workshop' \n",
    "\n",
    "system(\"ls\") {WORKSHOP_PATH}\n"
   ]
  },
  {
   "cell_type": "code",
   "execution_count": null,
   "id": "ee6e7021",
   "metadata": {},
   "outputs": [],
   "source": [
    "local_data_path = WS_PATH / \"ws_files\" / \"workshop_files\"\n",
    "\n",
    "if not local_data_path.exists():\n",
    "    local_data_path.mkdir(parents=True)"
   ]
  },
  {
   "cell_type": "code",
   "execution_count": null,
   "id": "cafb0d14",
   "metadata": {},
   "outputs": [],
   "source": [
    "WORKSHOP_PATH =  WS_PATH / 'release_resources/asap-crn-cloud-release-resources/release-artifacts/sample_notebooks/workshop' \n",
    "ref_gene_filename = WORKSHOP_PATH / 'GP2 European GWAS Manuscript Tables - Table 4.csv'\n",
    "\n",
    "GP2_PD_genes = pd.read_csv(ref_gene_filename)"
   ]
  },
  {
   "cell_type": "code",
   "execution_count": null,
   "id": "37c81646",
   "metadata": {},
   "outputs": [],
   "source": [
    "full_frontal_samples_filename = (\n",
    "    WORKSHOP_PATH / f\"asap-{dataset_team}.full_frontal_ctx_case_control_samples.h5ad\"\n",
    ")\n",
    "frontal_full_ad = sc.read_h5ad(full_frontal_samples_filename)"
   ]
  },
  {
   "cell_type": "code",
   "execution_count": null,
   "id": "c45c8149",
   "metadata": {},
   "outputs": [],
   "source": [
    "pd_genes = set(GP2_PD_genes[\"SYMBOL\"]).intersection(\n",
    "    set(frontal_full_ad.var_names)\n",
    ")"
   ]
  },
  {
   "cell_type": "code",
   "execution_count": null,
   "id": "93df813b",
   "metadata": {},
   "outputs": [],
   "source": [
    "pd_genes"
   ]
  },
  {
   "cell_type": "code",
   "execution_count": null,
   "id": "df44fd4f",
   "metadata": {},
   "outputs": [],
   "source": [
    "query_gene = \"CTSB\"\n",
    "query_gene = \"TSC22D4\"\n",
    "\n",
    "\n",
    "CTSB_expr = frontal_full_ad[:, query_gene].X.toarray()\n",
    "cell_metadata_df = pd.DataFrame(\n",
    "    CTSB_expr, columns=[query_gene], index=frontal_full_ad.obs.index\n",
    ")\n",
    "\n",
    "cell_metadata_df.loc[:, \"cell_type\"] = frontal_full_ad.obs[\"cell_type\"]\n",
    "\n",
    "cell_metadata_df.groupby(\"cell_type\").describe()"
   ]
  },
  {
   "cell_type": "code",
   "execution_count": null,
   "id": "2cc3daa6",
   "metadata": {},
   "outputs": [],
   "source": [
    "\n",
    "\n",
    "sc.pl.embedding(\n",
    "    frontal_full_ad,\n",
    "    basis=\"umap\",\n",
    "    color=[query_gene],\n",
    "    cmap=sns.cubehelix_palette(dark=0, light=0.9, as_cmap=True),\n",
    "    title=f\"{query_gene} gexp\",\n",
    ")"
   ]
  },
  {
   "cell_type": "code",
   "execution_count": null,
   "id": "54e48047",
   "metadata": {},
   "outputs": [],
   "source": [
    "# maybe calculate the relative expression "
   ]
  },
  {
   "cell_type": "code",
   "execution_count": null,
   "id": "b628f3e1",
   "metadata": {},
   "outputs": [],
   "source": [
    "!date"
   ]
  },
  {
   "cell_type": "code",
   "execution_count": null,
   "id": "7dae5d42",
   "metadata": {},
   "outputs": [],
   "source": [
    "!pip freeze"
   ]
  },
  {
   "cell_type": "code",
   "execution_count": null,
   "id": "4d1674a1",
   "metadata": {},
   "outputs": [],
   "source": [
    "!jupyter labextension list"
   ]
  },
  {
   "cell_type": "code",
   "execution_count": null,
   "id": "681041a0",
   "metadata": {},
   "outputs": [],
   "source": [
    "!grep ^processor /proc/cpuinfo | wc -l"
   ]
  },
  {
   "cell_type": "code",
   "execution_count": null,
   "id": "1d10c3b0",
   "metadata": {},
   "outputs": [],
   "source": [
    "!grep \"^MemTotal:\" /proc/meminfo"
   ]
  },
  {
   "cell_type": "code",
   "execution_count": null,
   "id": "0940efe6",
   "metadata": {},
   "outputs": [],
   "source": []
  }
 ],
 "metadata": {
  "kernelspec": {
   "display_name": "R",
   "language": "R",
   "name": "ir"
  },
  "language_info": {
   "codemirror_mode": "r",
   "file_extension": ".r",
   "mimetype": "text/x-r-source",
   "name": "R",
   "pygments_lexer": "r",
   "version": "4.4.2"
  }
 },
 "nbformat": 4,
 "nbformat_minor": 5
}
