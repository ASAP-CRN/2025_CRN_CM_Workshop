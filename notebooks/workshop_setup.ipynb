{
 "cells": [
  {
   "cell_type": "code",
   "execution_count": null,
   "id": "e9d5c712-09a6-4af8-a591-93ae8bb87f0d",
   "metadata": {},
   "outputs": [],
   "source": []
  },
  {
   "cell_type": "markdown",
   "id": "09db5a81-5b35-4c76-afd6-a828d22bc870",
   "metadata": {},
   "source": [
    "# 2025 ASAP CRN Colloborative Meeting - CRN Cloud Training Workshop Setup\n",
    "\n",
    "## Overview\n",
    "This notebook will help you set things up for the workshope.\n",
    "\n",
    "\n",
    "## Steps\n",
    "1. Install some nescessary tools, and define the paths in our local workspace where we will copy the files to.\n",
    "\n",
    "2. Copy notebooks to your workspace from the resource\n",
    "\n",
    "3. Copy the key data files you will need for the workshop to your workspace \n",
    "\n",
    "4. open your _workspace_ copy of the workshop notebook: [03_GOI_analysis.ipynb](~/workspace/workshop_files/03_GOI_analysis.ipynb)\n",
    "\n",
    "\n",
    "\n",
    "    "
   ]
  },
  {
   "cell_type": "code",
   "execution_count": 20,
   "id": "4215af7d-4dcd-4cb8-ab82-2999c642dc27",
   "metadata": {
    "tags": []
   },
   "outputs": [
    {
     "name": "stdout",
     "output_type": "stream",
     "text": [
      "The autotime extension is already loaded. To reload it, use:\n",
      "  %reload_ext autotime\n",
      "time: 5.75 ms (started: 2025-03-06 20:00:22 +00:00)\n"
     ]
    }
   ],
   "source": [
    "# Use pathlib for file path manipulation\n",
    "from pathlib import Path \n",
    "\n",
    "\n",
    "# matplotlib and seaborn a pythonic alternative to plotnine\n",
    "try:\n",
    "    import seaborn as sns\n",
    "    import matplotlib.pyplot as plt\n",
    "except ImportError as e:\n",
    "    print(\"Error -> \", e)\n",
    "    print(\"Installing seaborn or matplotlib\")\n",
    "    !pip install matplotlib seaborn\n",
    "    import seaborn as sns\n",
    "    import matplotlib.pyplot as plt\n",
    "\n",
    "\n",
    "    \n",
    "#  plotnine: a ggplot2-compatible Python plotting package\n",
    "try:\n",
    "    import plotnine as p9\n",
    "except ImportError as e:\n",
    "    print(\"Error -> \", e)\n",
    "    print(\"Installing plotnine\")\n",
    "    !pip install plotnine\n",
    "    import plotnine as p9\n",
    "\n",
    "try:\n",
    "    import scanpy as sc\n",
    "except ImportError as e:\n",
    "    print(\"Error -> \", e)\n",
    "    print(\"Installing scanpy\")\n",
    "    !pip install scanpy\n",
    "    import scanpy as sc\n",
    "\n",
    "\n",
    "try:\n",
    "    from scipy.stats import norm\n",
    "    import statsmodels.formula.api as smf    \n",
    "    from statsmodels.stats.multitest import multipletests\n",
    "\n",
    "except ImportError as e:\n",
    "    print(\"Error -> \", e)\n",
    "    print(\"Installing scipy and statsmodel\")\n",
    "    !pip install scanpy statsmodel\n",
    "    from scipy.stats import norm\n",
    "    import statsmodels.formula.api as smf    \n",
    "    from statsmodels.stats.multitest import multipletests\n",
    "\n",
    "try:\n",
    "    %load_ext autotime\n",
    "except:\n",
    "    !pip install ipython-autotime\n",
    "    %load_ext autotime\n",
    "\n"
   ]
  },
  {
   "cell_type": "markdown",
   "id": "971a1c36",
   "metadata": {},
   "source": [
    "## Imports\n",
    "\n",
    "If we can't import the python modules we will need we can go ahead and install them now."
   ]
  },
  {
   "cell_type": "markdown",
   "id": "11db0c4a-9383-4ecf-8462-b966b05e24d2",
   "metadata": {},
   "source": [
    "###  ASAP CRN data paths\n",
    "First, let's build the paths to our data. "
   ]
  },
  {
   "cell_type": "code",
   "execution_count": 21,
   "id": "290f7e03-6997-4c35-9d14-1169ef794bb3",
   "metadata": {
    "tags": []
   },
   "outputs": [
    {
     "name": "stdout",
     "output_type": "stream",
     "text": [
      "time: 2.59 ms (started: 2025-03-06 20:00:25 +00:00)\n"
     ]
    }
   ],
   "source": [
    "# Workspace Path\n",
    "HOME_PATH = Path.home()\n",
    "WS_PATH =  HOME_PATH / \"workspace\"\n",
    "if not WS_PATH.exists():\n",
    "    print(f\"{WS_PATH} doesn't exist. We need to remount our resources\")\n",
    "    !wb resource mount    "
   ]
  },
  {
   "cell_type": "markdown",
   "id": "2779ed2c-d9a1-43e6-b5b6-7df643bb71fb",
   "metadata": {},
   "source": [
    "#### Workshop/Notebook Artifact Path\n",
    "\n",
    "This is the path to where the artifacts we've created in these notebooks can be found in case you want to skip ahead.  Particularly for the workshop.  In which case you can replace the `local_data_path` with `WORKSHOP_PATH`."
   ]
  },
  {
   "cell_type": "code",
   "execution_count": 22,
   "id": "ca7eed34",
   "metadata": {
    "tags": []
   },
   "outputs": [
    {
     "name": "stdout",
     "output_type": "stream",
     "text": [
      "data  notebooks\n",
      "time: 843 ms (started: 2025-03-06 20:00:31 +00:00)\n"
     ]
    }
   ],
   "source": [
    "WORKSHOP_PATH = WS_PATH / \"release_resources/asap-crn-cloud-release-resources/release-artifacts/2025_CRN_CM_Workshop_Resources_03122025\" \n",
    "\n",
    "!ls {WORKSHOP_PATH}\n"
   ]
  },
  {
   "cell_type": "code",
   "execution_count": 23,
   "id": "4269bf6f-b345-456c-b8df-bbdfd1f8ca82",
   "metadata": {},
   "outputs": [
    {
     "data": {
      "text/plain": [
       "PosixPath('/home/jupyter/workspace/release_resources/asap-crn-cloud-release-resources/release-artifacts/2025_CRN_CM_Workshop_Resources_03122025')"
      ]
     },
     "execution_count": 23,
     "metadata": {},
     "output_type": "execute_result"
    },
    {
     "name": "stdout",
     "output_type": "stream",
     "text": [
      "time: 7.24 ms (started: 2025-03-06 20:00:50 +00:00)\n"
     ]
    }
   ],
   "source": [
    "WORKSHOP_PATH"
   ]
  },
  {
   "cell_type": "markdown",
   "id": "4ca8d87b",
   "metadata": {},
   "source": [
    "#### Local Data Path\n",
    "Lets also define a path for copying our data files and exporting intermediate analysis artifacts to your workspace.  In this example we'll make a \"workshop_files\" which are persistent in our Verily Workbench Workspace. "
   ]
  },
  {
   "cell_type": "code",
   "execution_count": 4,
   "id": "b0d6696e-317f-455f-b27b-6f06b65d3d42",
   "metadata": {
    "scrolled": true
   },
   "outputs": [
    {
     "name": "stdout",
     "output_type": "stream",
     "text": [
      "time: 1.48 ms (started: 2025-03-06 08:10:38 +00:00)\n"
     ]
    }
   ],
   "source": [
    "local_data_path = WS_PATH / \"workshop_files\"\n",
    "\n",
    "if not local_data_path.exists():\n",
    "    local_data_path.mkdir(parents=True)\n",
    "\n",
    "\n",
    "local_nb_path = local_data_path / \"notebooks\"\n",
    "if not local_nb_path.exists():\n",
    "    local_nb_path.mkdir(parents=True)\n"
   ]
  },
  {
   "cell_type": "markdown",
   "id": "4c088b43-f435-4d0d-b78d-bfb671fe0017",
   "metadata": {},
   "source": [
    "## copy workshop files to your local workspace\n",
    "\n",
    "Now that we've defined our local_data_path we can start copying. First lets get our notebooks. \n"
   ]
  },
  {
   "cell_type": "code",
   "execution_count": 5,
   "id": "ff8df32a-7a6d-488c-83ec-769ba36c9930",
   "metadata": {},
   "outputs": [
    {
     "name": "stdout",
     "output_type": "stream",
     "text": [
      "cp: cannot create regular file '/home/jupyter/workspace/workshop_files/notebooks/workspace_example1.png': Permission denied\n",
      "time: 201 ms (started: 2025-03-06 08:10:58 +00:00)\n"
     ]
    }
   ],
   "source": [
    "\n",
    "!gsutil -m cp \\\n",
    "  \"gs://asap-crn-cloud-release-resources/release-artifacts/2025_CRN_CM_Workshop_Resources_03122025/notebooks/00_full_example_notebook.ipynb\" \\\n",
    "  \"gs://asap-crn-cloud-release-resources/release-artifacts/2025_CRN_CM_Workshop_Resources_03122025/notebooks/01_basic_EDA.ipynb\" \\\n",
    "  \"gs://asap-crn-cloud-release-resources/release-artifacts/2025_CRN_CM_Workshop_Resources_03122025/notebooks/02_dataset_composition.ipynb\" \\\n",
    "  \"gs://asap-crn-cloud-release-resources/release-artifacts/2025_CRN_CM_Workshop_Resources_03122025/notebooks/03-R_GOI_analysis.ipynb\" \\\n",
    "  \"gs://asap-crn-cloud-release-resources/release-artifacts/2025_CRN_CM_Workshop_Resources_03122025/notebooks/03_GOI_analysis.ipynb\" \\\n",
    "  \"gs://asap-crn-cloud-release-resources/release-artifacts/2025_CRN_CM_Workshop_Resources_03122025/notebooks/04_DE_analysis.ipynb\" \\\n",
    "  \"gs://asap-crn-cloud-release-resources/release-artifacts/2025_CRN_CM_Workshop_Resources_03122025/notebooks/workspace_example1.png\" \\\n",
    "  {local_nb_path}\n"
   ]
  },
  {
   "cell_type": "markdown",
   "id": "d2cf7d2f-5881-4555-ac43-85058b884c22",
   "metadata": {},
   "source": [
    "## Curated Data\n",
    "The `merged_adata_object` is commented out below because its very large and only needed if executing Part 2 yourself."
   ]
  },
  {
   "cell_type": "code",
   "execution_count": 12,
   "id": "cc933b9f-0e69-4c22-897c-2d37017f63b2",
   "metadata": {
    "editable": true,
    "slideshow": {
     "slide_type": ""
    },
    "tags": []
   },
   "outputs": [
    {
     "name": "stdout",
     "output_type": "stream",
     "text": [
      "time: 2min 44s (started: 2025-03-06 08:56:51 +00:00)\n"
     ]
    }
   ],
   "source": [
    "\n",
    "!gsutil -m cp \\\n",
    "  \"gs://asap-curated-cohort-pmdbs-sc-rnaseq/pmdbs_sc_rnaseq/cohort_analysis/asap-cohort.final_adata.h5ad\" \\\n",
    "  \"gs://asap-curated-cohort-pmdbs-sc-rnaseq/pmdbs_sc_rnaseq/cohort_analysis/asap-cohort.final_metadata.csv\" \\\n",
    "  # \"gs://asap-curated-cohort-pmdbs-sc-rnaseq/pmdbs_sc_rnaseq/cohort_analysis/asap-cohort.merged_adata_object.h5ad\" \\\n",
    "  {local_data_path}\n",
    "\n",
    "    "
   ]
  },
  {
   "cell_type": "markdown",
   "id": "09dc6173-fb1d-4caf-8b80-14bc49ecab2f",
   "metadata": {},
   "source": [
    "## Workshop Data (Parts 1&2)\n",
    "\n",
    "Now the data files which are made in parts 1 and 2:   [01_basic_EDA.ipynb](./01_basic_EDA.ipynb) ,  [02_dataset_composition.ipynb](./02_dataset_composition.ipynb)"
   ]
  },
  {
   "cell_type": "code",
   "execution_count": 11,
   "id": "82afb946-7867-4702-ae49-8ea2ead6d043",
   "metadata": {},
   "outputs": [
    {
     "name": "stdout",
     "output_type": "stream",
     "text": [
      "Copying gs://asap-crn-cloud-release-resources/release-artifacts/2025_CRN_CM_Workshop_Resources_03122025/data/GP2 European GWAS Manuscript Tables - Table 4.csv...\n",
      "Copying gs://asap-crn-cloud-release-resources/release-artifacts/2025_CRN_CM_Workshop_Resources_03122025/data/asap-cohort.final_metadata.csv...\n",
      "Copying gs://asap-crn-cloud-release-resources/release-artifacts/2025_CRN_CM_Workshop_Resources_03122025/data/asap-cohort.full_cortical_ctx_case_control_samples.h5ad...\n",
      "\\ [3/3 files][966.8 MiB/966.8 MiB] 100% Done  82.8 MiB/s ETA 00:00:00           \n",
      "Operation completed over 3 objects/966.8 MiB.                                    \n",
      "time: 24.3 s (started: 2025-03-06 08:44:54 +00:00)\n"
     ]
    }
   ],
   "source": [
    "!gsutil -m cp \\\n",
    "  \"gs://asap-crn-cloud-release-resources/release-artifacts/2025_CRN_CM_Workshop_Resources_03122025/data/GP2 European GWAS Manuscript Tables - Table 4.csv\" \\\n",
    "  \"gs://asap-crn-cloud-release-resources/release-artifacts/2025_CRN_CM_Workshop_Resources_03122025/data/asap-cohort.full_frontal_ctx_case_control_samples.h5ad\" \\\n",
    "{local_data_path}\n",
    "\n",
    "\n",
    "\n"
   ]
  },
  {
   "cell_type": "markdown",
   "id": "cd56cdf9-590e-41cb-972c-458100b27c38",
   "metadata": {},
   "source": [
    "## Psuedobulk files (Part 4)\n",
    "Finally some psuedobulk files for part 4: [04_DE_analysis.ipynb](./04_DE_analysis.ipynb)\n",
    "\n"
   ]
  },
  {
   "cell_type": "code",
   "execution_count": 15,
   "id": "2798ab5f-1961-472e-801a-0d4e7a6bfd82",
   "metadata": {
    "scrolled": true
   },
   "outputs": [
    {
     "name": "stdout",
     "output_type": "stream",
     "text": [
      "Copying gs://asap-crn-cloud-release-resources/release-artifacts/2025_CRN_CM_Workshop_Resources_03122025/data/asap-cohort.full_frontal_ctx_psuedobulk.h5ad...\n",
      "Copying gs://asap-crn-cloud-release-resources/release-artifacts/2025_CRN_CM_Workshop_Resources_03122025/data/asap-cohort.full_frontal_ctx_psuedobulk_de.csv...\n",
      "Copying gs://asap-crn-cloud-release-resources/release-artifacts/2025_CRN_CM_Workshop_Resources_03122025/data/asap-cohort.full_frontal_ctx_psuedobulk_de.meta_analysis_DS_PMDBS_0001.csv...\n",
      "Copying gs://asap-crn-cloud-release-resources/release-artifacts/2025_CRN_CM_Workshop_Resources_03122025/data/asap-cohort.full_frontal_ctx_psuedobulk_de.meta_analysis_DS_PMDBS_0002.csv...\n",
      "Copying gs://asap-crn-cloud-release-resources/release-artifacts/2025_CRN_CM_Workshop_Resources_03122025/data/asap-cohort.full_frontal_ctx_psuedobulk_de.meta_analysis_DS_PMDBS_0004.csv...\n",
      "/ [5/5 files][184.5 MiB/184.5 MiB] 100% Done                                    \n",
      "Operation completed over 5 objects/184.5 MiB.                                    \n",
      "time: 6.39 s (started: 2025-03-06 19:26:57 +00:00)\n"
     ]
    }
   ],
   "source": [
    "!gsutil -m cp \\\n",
    "  \"gs://asap-crn-cloud-release-resources/release-artifacts/2025_CRN_CM_Workshop_Resources_03122025/data/asap-cohort.full_frontal_ctx_psuedobulk.h5ad\" \\\n",
    "  \"gs://asap-crn-cloud-release-resources/release-artifacts/2025_CRN_CM_Workshop_Resources_03122025/data/asap-cohort.full_frontal_ctx_psuedobulk_de.csv\" \\\n",
    "  \"gs://asap-crn-cloud-release-resources/release-artifacts/2025_CRN_CM_Workshop_Resources_03122025/data/asap-cohort.full_frontal_ctx_psuedobulk_de.meta_analysis_DS_PMDBS_0001.csv\" \\\n",
    "  \"gs://asap-crn-cloud-release-resources/release-artifacts/2025_CRN_CM_Workshop_Resources_03122025/data/asap-cohort.full_frontal_ctx_psuedobulk_de.meta_analysis_DS_PMDBS_0002.csv\" \\\n",
    "  \"gs://asap-crn-cloud-release-resources/release-artifacts/2025_CRN_CM_Workshop_Resources_03122025/data/asap-cohort.full_frontal_ctx_psuedobulk_de.meta_analysis_DS_PMDBS_0004.csv\" \\\n",
    "{local_data_path}"
   ]
  },
  {
   "cell_type": "markdown",
   "id": "9068a07e-a0f2-4138-aea5-fc33a08652fb",
   "metadata": {},
   "source": [
    "-----------------\n",
    "# Next:\n",
    "\n",
    "Navigate to your `local_data_path` i.e. __'workspace/workshop_files/'__ and open:\n",
    "- Part 3 - Gene of interest analysis (__Workshop Activity__) [03_GOI_analysis.ipynb](./03_GOI_analysis.ipynb)\n",
    "\n",
    "\n",
    "## all notebooks\n",
    "\n",
    "- Full example notebook [00_full_example_notebook.ipynb](./00_full_example_notebook.ipynb)\n",
    "    - Part 1 - [01_basic_EDA.ipynb](workshop_files/notebooks/01_basic_EDA.ipynb)  \n",
    "    - Part 2 - [02_dataset_composition.ipynb](./02_dataset_composition.ipynb)\n",
    "    - Part 3 - [03_GOI_analysis.ipynb](./03_GOI_analysis.ipynb)\n",
    "        - Part 3-R - [03-R_GOI_analysis.ipynb](./03-R_GOI_analysis.ipynb)\n",
    "    - Part 4 - [04_DE_analysis.ipynb](./04_DE_analysis.ipynb)\n",
    "\n"
   ]
  },
  {
   "cell_type": "markdown",
   "id": "5dbb55fc",
   "metadata": {
    "jp-MarkdownHeadingCollapsed": true
   },
   "source": [
    "\n",
    "- ## all notebooks\n",
    "\n",
    "- Full example notebook [00_full_example_notebook.ipynb](notebooks/00_full_example_notebook.ipynb)\n",
    "    - Part 1 - [01_basic_EDA.ipynb](/home/jupyter/workspace/workshop_files/notebooks/01_basic_EDA.ipynb)  \n",
    "    - Part 2 - [02_dataset_composition.ipynb](/home/jupyter/workspace/workshop_files/notebooks/02_dataset_composition.ipynb)\n",
    "    - Part 3 - [03_GOI_analysis.ipynb](/home/jupyter/workspace/workshop_files/notebooks/03_GOI_analysis.ipynb)\n",
    "        - Part 3-R - [03-R_GOI_analysis.ipynb](./03-R_GOI_analysis.ipynb)\n",
    "    - Part 4 - [04_DE_analysis.ipynb](/home/jupyter/workspace/workshop_files/notebooks/04_DE_analysis.ipynb)\n",
    "\n",
    "\n"
   ]
  }
 ],
 "metadata": {
  "kernelspec": {
   "display_name": "Python 3",
   "language": "python",
   "name": "python3"
  },
  "language_info": {
   "codemirror_mode": {
    "name": "ipython",
    "version": 3
   },
   "file_extension": ".py",
   "mimetype": "text/x-python",
   "name": "python",
   "nbconvert_exporter": "python",
   "pygments_lexer": "ipython3",
   "version": "3.10.12"
  }
 },
 "nbformat": 4,
 "nbformat_minor": 5
}
